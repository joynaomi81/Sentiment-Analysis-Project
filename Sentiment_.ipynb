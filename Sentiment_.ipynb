{
  "nbformat": 4,
  "nbformat_minor": 0,
  "metadata": {
    "colab": {
      "provenance": [],
      "mount_file_id": "1JK2mnb4i8KTDQTSmmj2NxPoFrQYc3jZw",
      "authorship_tag": "ABX9TyNtRpCr2djjhPEmG2B2paEH",
      "include_colab_link": true
    },
    "kernelspec": {
      "name": "python3",
      "display_name": "Python 3"
    },
    "language_info": {
      "name": "python"
    }
  },
  "cells": [
    {
      "cell_type": "markdown",
      "metadata": {
        "id": "view-in-github",
        "colab_type": "text"
      },
      "source": [
        "<a href=\"https://colab.research.google.com/github/joynaomi81/Sentiment-Analysis-Project/blob/main/Sentiment_.ipynb\" target=\"_parent\"><img src=\"https://colab.research.google.com/assets/colab-badge.svg\" alt=\"Open In Colab\"/></a>"
      ]
    },
    {
      "cell_type": "code",
      "source": [
        "import nltk\n",
        "nltk.download('vader_lexicon')\n",
        "\n",
        "from nltk.sentiment.vader import SentimentIntensityAnalyzer\n",
        "\n",
        "sent_analysis = SentimentIntensityAnalyzer()\n"
      ],
      "metadata": {
        "colab": {
          "base_uri": "https://localhost:8080/"
        },
        "id": "Xz1g04--pse0",
        "outputId": "9bc74dbb-a34a-45ee-94be-6b3faa9aa8a5"
      },
      "execution_count": 8,
      "outputs": [
        {
          "output_type": "stream",
          "name": "stderr",
          "text": [
            "[nltk_data] Downloading package vader_lexicon to /root/nltk_data...\n",
            "[nltk_data]   Package vader_lexicon is already up-to-date!\n"
          ]
        }
      ]
    },
    {
      "cell_type": "code",
      "source": [
        "sentiment_scores = sent_analysis.polarity_scores('Best Movie Ever')\n",
        "\n",
        "print('Sentiment Analysis Values:')\n",
        "for key, value in sentiment_scores.items():\n",
        "    print(f\"{key.capitalize()}: {value:.3f}\")\n"
      ],
      "metadata": {
        "colab": {
          "base_uri": "https://localhost:8080/"
        },
        "id": "3vGSaa7JqOMa",
        "outputId": "1f5e43bd-935b-43d3-a1eb-bde1d6c17333"
      },
      "execution_count": 13,
      "outputs": [
        {
          "output_type": "stream",
          "name": "stdout",
          "text": [
            "Sentiment Analysis Values:\n",
            "Neg: 0.000\n",
            "Neu: 0.323\n",
            "Pos: 0.677\n",
            "Compound: 0.637\n"
          ]
        }
      ]
    },
    {
      "cell_type": "code",
      "source": [
        "import pickle\n",
        "from nltk.sentiment import SentimentIntensityAnalyzer\n",
        "\n",
        "sent_analysis = SentimentIntensityAnalyzer()\n",
        "\n",
        "with open('/content/drive/MyDrive/sentiment_analysis.pkl', 'wb') as file:\n",
        "    pickle.dump(sent_analysis, file)\n"
      ],
      "metadata": {
        "id": "-Kfl2WdMqbtM"
      },
      "execution_count": 14,
      "outputs": []
    }
  ]
}