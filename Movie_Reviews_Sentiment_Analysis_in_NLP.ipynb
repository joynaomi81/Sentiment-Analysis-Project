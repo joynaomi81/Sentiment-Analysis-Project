{
  "nbformat": 4,
  "nbformat_minor": 0,
  "metadata": {
    "colab": {
      "provenance": [],
      "include_colab_link": true
    },
    "kernelspec": {
      "name": "python3",
      "display_name": "Python 3"
    },
    "language_info": {
      "name": "python"
    }
  },
  "cells": [
    {
      "cell_type": "markdown",
      "metadata": {
        "id": "view-in-github",
        "colab_type": "text"
      },
      "source": [
        "<a href=\"https://colab.research.google.com/github/joynaomi81/Sentiment-Analysis-Project/blob/main/Movie_Reviews_Sentiment_Analysis_in_NLP.ipynb\" target=\"_parent\"><img src=\"https://colab.research.google.com/assets/colab-badge.svg\" alt=\"Open In Colab\"/></a>"
      ]
    },
    {
      "cell_type": "code",
      "execution_count": null,
      "metadata": {
        "id": "pqvylt4LM4wL"
      },
      "outputs": [],
      "source": [
        "import numpy as np\n",
        "import pandas as pd"
      ]
    },
    {
      "cell_type": "code",
      "source": [
        "data=pd.read_csv('/content/drive/MyDrive/Colab Notebooks/IMDB Dataset.csv')"
      ],
      "metadata": {
        "id": "PvWvydx7RSIB"
      },
      "execution_count": 6,
      "outputs": []
    },
    {
      "cell_type": "code",
      "source": [
        "data.head()"
      ],
      "metadata": {
        "colab": {
          "base_uri": "https://localhost:8080/",
          "height": 206
        },
        "id": "1-TIkkJxedIs",
        "outputId": "0b2d8372-e2aa-407c-c3e9-71fb420272a7"
      },
      "execution_count": 7,
      "outputs": [
        {
          "output_type": "execute_result",
          "data": {
            "text/plain": [
              "                                              review sentiment\n",
              "0  One of the other reviewers has mentioned that ...  positive\n",
              "1  A wonderful little production. <br /><br />The...  positive\n",
              "2  I thought this was a wonderful way to spend ti...  positive\n",
              "3  Basically there's a family where a little boy ...  negative\n",
              "4  Petter Mattei's \"Love in the Time of Money\" is...  positive"
            ],
            "text/html": [
              "\n",
              "  <div id=\"df-6dec6414-3d7f-4608-b98f-5b10d7979301\">\n",
              "    <div class=\"colab-df-container\">\n",
              "      <div>\n",
              "<style scoped>\n",
              "    .dataframe tbody tr th:only-of-type {\n",
              "        vertical-align: middle;\n",
              "    }\n",
              "\n",
              "    .dataframe tbody tr th {\n",
              "        vertical-align: top;\n",
              "    }\n",
              "\n",
              "    .dataframe thead th {\n",
              "        text-align: right;\n",
              "    }\n",
              "</style>\n",
              "<table border=\"1\" class=\"dataframe\">\n",
              "  <thead>\n",
              "    <tr style=\"text-align: right;\">\n",
              "      <th></th>\n",
              "      <th>review</th>\n",
              "      <th>sentiment</th>\n",
              "    </tr>\n",
              "  </thead>\n",
              "  <tbody>\n",
              "    <tr>\n",
              "      <th>0</th>\n",
              "      <td>One of the other reviewers has mentioned that ...</td>\n",
              "      <td>positive</td>\n",
              "    </tr>\n",
              "    <tr>\n",
              "      <th>1</th>\n",
              "      <td>A wonderful little production. &lt;br /&gt;&lt;br /&gt;The...</td>\n",
              "      <td>positive</td>\n",
              "    </tr>\n",
              "    <tr>\n",
              "      <th>2</th>\n",
              "      <td>I thought this was a wonderful way to spend ti...</td>\n",
              "      <td>positive</td>\n",
              "    </tr>\n",
              "    <tr>\n",
              "      <th>3</th>\n",
              "      <td>Basically there's a family where a little boy ...</td>\n",
              "      <td>negative</td>\n",
              "    </tr>\n",
              "    <tr>\n",
              "      <th>4</th>\n",
              "      <td>Petter Mattei's \"Love in the Time of Money\" is...</td>\n",
              "      <td>positive</td>\n",
              "    </tr>\n",
              "  </tbody>\n",
              "</table>\n",
              "</div>\n",
              "      <button class=\"colab-df-convert\" onclick=\"convertToInteractive('df-6dec6414-3d7f-4608-b98f-5b10d7979301')\"\n",
              "              title=\"Convert this dataframe to an interactive table.\"\n",
              "              style=\"display:none;\">\n",
              "        \n",
              "  <svg xmlns=\"http://www.w3.org/2000/svg\" height=\"24px\"viewBox=\"0 0 24 24\"\n",
              "       width=\"24px\">\n",
              "    <path d=\"M0 0h24v24H0V0z\" fill=\"none\"/>\n",
              "    <path d=\"M18.56 5.44l.94 2.06.94-2.06 2.06-.94-2.06-.94-.94-2.06-.94 2.06-2.06.94zm-11 1L8.5 8.5l.94-2.06 2.06-.94-2.06-.94L8.5 2.5l-.94 2.06-2.06.94zm10 10l.94 2.06.94-2.06 2.06-.94-2.06-.94-.94-2.06-.94 2.06-2.06.94z\"/><path d=\"M17.41 7.96l-1.37-1.37c-.4-.4-.92-.59-1.43-.59-.52 0-1.04.2-1.43.59L10.3 9.45l-7.72 7.72c-.78.78-.78 2.05 0 2.83L4 21.41c.39.39.9.59 1.41.59.51 0 1.02-.2 1.41-.59l7.78-7.78 2.81-2.81c.8-.78.8-2.07 0-2.86zM5.41 20L4 18.59l7.72-7.72 1.47 1.35L5.41 20z\"/>\n",
              "  </svg>\n",
              "      </button>\n",
              "      \n",
              "  <style>\n",
              "    .colab-df-container {\n",
              "      display:flex;\n",
              "      flex-wrap:wrap;\n",
              "      gap: 12px;\n",
              "    }\n",
              "\n",
              "    .colab-df-convert {\n",
              "      background-color: #E8F0FE;\n",
              "      border: none;\n",
              "      border-radius: 50%;\n",
              "      cursor: pointer;\n",
              "      display: none;\n",
              "      fill: #1967D2;\n",
              "      height: 32px;\n",
              "      padding: 0 0 0 0;\n",
              "      width: 32px;\n",
              "    }\n",
              "\n",
              "    .colab-df-convert:hover {\n",
              "      background-color: #E2EBFA;\n",
              "      box-shadow: 0px 1px 2px rgba(60, 64, 67, 0.3), 0px 1px 3px 1px rgba(60, 64, 67, 0.15);\n",
              "      fill: #174EA6;\n",
              "    }\n",
              "\n",
              "    [theme=dark] .colab-df-convert {\n",
              "      background-color: #3B4455;\n",
              "      fill: #D2E3FC;\n",
              "    }\n",
              "\n",
              "    [theme=dark] .colab-df-convert:hover {\n",
              "      background-color: #434B5C;\n",
              "      box-shadow: 0px 1px 3px 1px rgba(0, 0, 0, 0.15);\n",
              "      filter: drop-shadow(0px 1px 2px rgba(0, 0, 0, 0.3));\n",
              "      fill: #FFFFFF;\n",
              "    }\n",
              "  </style>\n",
              "\n",
              "      <script>\n",
              "        const buttonEl =\n",
              "          document.querySelector('#df-6dec6414-3d7f-4608-b98f-5b10d7979301 button.colab-df-convert');\n",
              "        buttonEl.style.display =\n",
              "          google.colab.kernel.accessAllowed ? 'block' : 'none';\n",
              "\n",
              "        async function convertToInteractive(key) {\n",
              "          const element = document.querySelector('#df-6dec6414-3d7f-4608-b98f-5b10d7979301');\n",
              "          const dataTable =\n",
              "            await google.colab.kernel.invokeFunction('convertToInteractive',\n",
              "                                                     [key], {});\n",
              "          if (!dataTable) return;\n",
              "\n",
              "          const docLinkHtml = 'Like what you see? Visit the ' +\n",
              "            '<a target=\"_blank\" href=https://colab.research.google.com/notebooks/data_table.ipynb>data table notebook</a>'\n",
              "            + ' to learn more about interactive tables.';\n",
              "          element.innerHTML = '';\n",
              "          dataTable['output_type'] = 'display_data';\n",
              "          await google.colab.output.renderOutput(dataTable, element);\n",
              "          const docLink = document.createElement('div');\n",
              "          docLink.innerHTML = docLinkHtml;\n",
              "          element.appendChild(docLink);\n",
              "        }\n",
              "      </script>\n",
              "    </div>\n",
              "  </div>\n",
              "  "
            ]
          },
          "metadata": {},
          "execution_count": 7
        }
      ]
    },
    {
      "cell_type": "code",
      "source": [
        "from google.colab import drive\n",
        "drive.mount('/content/drive')"
      ],
      "metadata": {
        "id": "uSuaGcHsWeyw",
        "colab": {
          "base_uri": "https://localhost:8080/"
        },
        "outputId": "0a90c379-d883-40d9-a68b-307b1ec40c89"
      },
      "execution_count": 5,
      "outputs": [
        {
          "output_type": "stream",
          "name": "stdout",
          "text": [
            "Mounted at /content/drive\n"
          ]
        }
      ]
    },
    {
      "cell_type": "code",
      "source": [
        "data.tail()"
      ],
      "metadata": {
        "colab": {
          "base_uri": "https://localhost:8080/",
          "height": 206
        },
        "id": "7dHiK-YF6ygE",
        "outputId": "a182b34f-6ff4-42b4-e7b8-62004081cb5b"
      },
      "execution_count": 8,
      "outputs": [
        {
          "output_type": "execute_result",
          "data": {
            "text/plain": [
              "                                                  review sentiment\n",
              "49995  I thought this movie did a down right good job...  positive\n",
              "49996  Bad plot, bad dialogue, bad acting, idiotic di...  negative\n",
              "49997  I am a Catholic taught in parochial elementary...  negative\n",
              "49998  I'm going to have to disagree with the previou...  negative\n",
              "49999  No one expects the Star Trek movies to be high...  negative"
            ],
            "text/html": [
              "\n",
              "  <div id=\"df-c7442239-67d1-4e05-91d6-26a169eda3b0\">\n",
              "    <div class=\"colab-df-container\">\n",
              "      <div>\n",
              "<style scoped>\n",
              "    .dataframe tbody tr th:only-of-type {\n",
              "        vertical-align: middle;\n",
              "    }\n",
              "\n",
              "    .dataframe tbody tr th {\n",
              "        vertical-align: top;\n",
              "    }\n",
              "\n",
              "    .dataframe thead th {\n",
              "        text-align: right;\n",
              "    }\n",
              "</style>\n",
              "<table border=\"1\" class=\"dataframe\">\n",
              "  <thead>\n",
              "    <tr style=\"text-align: right;\">\n",
              "      <th></th>\n",
              "      <th>review</th>\n",
              "      <th>sentiment</th>\n",
              "    </tr>\n",
              "  </thead>\n",
              "  <tbody>\n",
              "    <tr>\n",
              "      <th>49995</th>\n",
              "      <td>I thought this movie did a down right good job...</td>\n",
              "      <td>positive</td>\n",
              "    </tr>\n",
              "    <tr>\n",
              "      <th>49996</th>\n",
              "      <td>Bad plot, bad dialogue, bad acting, idiotic di...</td>\n",
              "      <td>negative</td>\n",
              "    </tr>\n",
              "    <tr>\n",
              "      <th>49997</th>\n",
              "      <td>I am a Catholic taught in parochial elementary...</td>\n",
              "      <td>negative</td>\n",
              "    </tr>\n",
              "    <tr>\n",
              "      <th>49998</th>\n",
              "      <td>I'm going to have to disagree with the previou...</td>\n",
              "      <td>negative</td>\n",
              "    </tr>\n",
              "    <tr>\n",
              "      <th>49999</th>\n",
              "      <td>No one expects the Star Trek movies to be high...</td>\n",
              "      <td>negative</td>\n",
              "    </tr>\n",
              "  </tbody>\n",
              "</table>\n",
              "</div>\n",
              "      <button class=\"colab-df-convert\" onclick=\"convertToInteractive('df-c7442239-67d1-4e05-91d6-26a169eda3b0')\"\n",
              "              title=\"Convert this dataframe to an interactive table.\"\n",
              "              style=\"display:none;\">\n",
              "        \n",
              "  <svg xmlns=\"http://www.w3.org/2000/svg\" height=\"24px\"viewBox=\"0 0 24 24\"\n",
              "       width=\"24px\">\n",
              "    <path d=\"M0 0h24v24H0V0z\" fill=\"none\"/>\n",
              "    <path d=\"M18.56 5.44l.94 2.06.94-2.06 2.06-.94-2.06-.94-.94-2.06-.94 2.06-2.06.94zm-11 1L8.5 8.5l.94-2.06 2.06-.94-2.06-.94L8.5 2.5l-.94 2.06-2.06.94zm10 10l.94 2.06.94-2.06 2.06-.94-2.06-.94-.94-2.06-.94 2.06-2.06.94z\"/><path d=\"M17.41 7.96l-1.37-1.37c-.4-.4-.92-.59-1.43-.59-.52 0-1.04.2-1.43.59L10.3 9.45l-7.72 7.72c-.78.78-.78 2.05 0 2.83L4 21.41c.39.39.9.59 1.41.59.51 0 1.02-.2 1.41-.59l7.78-7.78 2.81-2.81c.8-.78.8-2.07 0-2.86zM5.41 20L4 18.59l7.72-7.72 1.47 1.35L5.41 20z\"/>\n",
              "  </svg>\n",
              "      </button>\n",
              "      \n",
              "  <style>\n",
              "    .colab-df-container {\n",
              "      display:flex;\n",
              "      flex-wrap:wrap;\n",
              "      gap: 12px;\n",
              "    }\n",
              "\n",
              "    .colab-df-convert {\n",
              "      background-color: #E8F0FE;\n",
              "      border: none;\n",
              "      border-radius: 50%;\n",
              "      cursor: pointer;\n",
              "      display: none;\n",
              "      fill: #1967D2;\n",
              "      height: 32px;\n",
              "      padding: 0 0 0 0;\n",
              "      width: 32px;\n",
              "    }\n",
              "\n",
              "    .colab-df-convert:hover {\n",
              "      background-color: #E2EBFA;\n",
              "      box-shadow: 0px 1px 2px rgba(60, 64, 67, 0.3), 0px 1px 3px 1px rgba(60, 64, 67, 0.15);\n",
              "      fill: #174EA6;\n",
              "    }\n",
              "\n",
              "    [theme=dark] .colab-df-convert {\n",
              "      background-color: #3B4455;\n",
              "      fill: #D2E3FC;\n",
              "    }\n",
              "\n",
              "    [theme=dark] .colab-df-convert:hover {\n",
              "      background-color: #434B5C;\n",
              "      box-shadow: 0px 1px 3px 1px rgba(0, 0, 0, 0.15);\n",
              "      filter: drop-shadow(0px 1px 2px rgba(0, 0, 0, 0.3));\n",
              "      fill: #FFFFFF;\n",
              "    }\n",
              "  </style>\n",
              "\n",
              "      <script>\n",
              "        const buttonEl =\n",
              "          document.querySelector('#df-c7442239-67d1-4e05-91d6-26a169eda3b0 button.colab-df-convert');\n",
              "        buttonEl.style.display =\n",
              "          google.colab.kernel.accessAllowed ? 'block' : 'none';\n",
              "\n",
              "        async function convertToInteractive(key) {\n",
              "          const element = document.querySelector('#df-c7442239-67d1-4e05-91d6-26a169eda3b0');\n",
              "          const dataTable =\n",
              "            await google.colab.kernel.invokeFunction('convertToInteractive',\n",
              "                                                     [key], {});\n",
              "          if (!dataTable) return;\n",
              "\n",
              "          const docLinkHtml = 'Like what you see? Visit the ' +\n",
              "            '<a target=\"_blank\" href=https://colab.research.google.com/notebooks/data_table.ipynb>data table notebook</a>'\n",
              "            + ' to learn more about interactive tables.';\n",
              "          element.innerHTML = '';\n",
              "          dataTable['output_type'] = 'display_data';\n",
              "          await google.colab.output.renderOutput(dataTable, element);\n",
              "          const docLink = document.createElement('div');\n",
              "          docLink.innerHTML = docLinkHtml;\n",
              "          element.appendChild(docLink);\n",
              "        }\n",
              "      </script>\n",
              "    </div>\n",
              "  </div>\n",
              "  "
            ]
          },
          "metadata": {},
          "execution_count": 8
        }
      ]
    },
    {
      "cell_type": "code",
      "source": [
        "data.columns"
      ],
      "metadata": {
        "colab": {
          "base_uri": "https://localhost:8080/"
        },
        "id": "s1CdYkrj7SNj",
        "outputId": "128ef9fa-159e-4da4-ea48-75c86f546910"
      },
      "execution_count": 9,
      "outputs": [
        {
          "output_type": "execute_result",
          "data": {
            "text/plain": [
              "Index(['review', 'sentiment'], dtype='object')"
            ]
          },
          "metadata": {},
          "execution_count": 9
        }
      ]
    },
    {
      "cell_type": "code",
      "source": [
        "data.isnull().any()"
      ],
      "metadata": {
        "colab": {
          "base_uri": "https://localhost:8080/"
        },
        "id": "rmWGGcIB7dg3",
        "outputId": "dec8e55b-d38a-4cd7-c3be-914c45911177"
      },
      "execution_count": 10,
      "outputs": [
        {
          "output_type": "execute_result",
          "data": {
            "text/plain": [
              "review       False\n",
              "sentiment    False\n",
              "dtype: bool"
            ]
          },
          "metadata": {},
          "execution_count": 10
        }
      ]
    },
    {
      "cell_type": "code",
      "source": [
        "data.isnull().sum()"
      ],
      "metadata": {
        "colab": {
          "base_uri": "https://localhost:8080/"
        },
        "id": "jjRa4b2B7stf",
        "outputId": "bd77a68e-6eef-4b37-b455-9f3d2d539d57"
      },
      "execution_count": 11,
      "outputs": [
        {
          "output_type": "execute_result",
          "data": {
            "text/plain": [
              "review       0\n",
              "sentiment    0\n",
              "dtype: int64"
            ]
          },
          "metadata": {},
          "execution_count": 11
        }
      ]
    },
    {
      "cell_type": "code",
      "source": [
        "data.describe()"
      ],
      "metadata": {
        "colab": {
          "base_uri": "https://localhost:8080/",
          "height": 175
        },
        "id": "gqaaA7tJ7s88",
        "outputId": "3c4248c5-1511-476e-8882-cd437f80d31c"
      },
      "execution_count": 12,
      "outputs": [
        {
          "output_type": "execute_result",
          "data": {
            "text/plain": [
              "                                                   review sentiment\n",
              "count                                               50000     50000\n",
              "unique                                              49582         2\n",
              "top     Loved today's show!!! It was a variety and not...  positive\n",
              "freq                                                    5     25000"
            ],
            "text/html": [
              "\n",
              "  <div id=\"df-cf6cce19-dcbb-4c73-b3b9-ddb697efeb6a\">\n",
              "    <div class=\"colab-df-container\">\n",
              "      <div>\n",
              "<style scoped>\n",
              "    .dataframe tbody tr th:only-of-type {\n",
              "        vertical-align: middle;\n",
              "    }\n",
              "\n",
              "    .dataframe tbody tr th {\n",
              "        vertical-align: top;\n",
              "    }\n",
              "\n",
              "    .dataframe thead th {\n",
              "        text-align: right;\n",
              "    }\n",
              "</style>\n",
              "<table border=\"1\" class=\"dataframe\">\n",
              "  <thead>\n",
              "    <tr style=\"text-align: right;\">\n",
              "      <th></th>\n",
              "      <th>review</th>\n",
              "      <th>sentiment</th>\n",
              "    </tr>\n",
              "  </thead>\n",
              "  <tbody>\n",
              "    <tr>\n",
              "      <th>count</th>\n",
              "      <td>50000</td>\n",
              "      <td>50000</td>\n",
              "    </tr>\n",
              "    <tr>\n",
              "      <th>unique</th>\n",
              "      <td>49582</td>\n",
              "      <td>2</td>\n",
              "    </tr>\n",
              "    <tr>\n",
              "      <th>top</th>\n",
              "      <td>Loved today's show!!! It was a variety and not...</td>\n",
              "      <td>positive</td>\n",
              "    </tr>\n",
              "    <tr>\n",
              "      <th>freq</th>\n",
              "      <td>5</td>\n",
              "      <td>25000</td>\n",
              "    </tr>\n",
              "  </tbody>\n",
              "</table>\n",
              "</div>\n",
              "      <button class=\"colab-df-convert\" onclick=\"convertToInteractive('df-cf6cce19-dcbb-4c73-b3b9-ddb697efeb6a')\"\n",
              "              title=\"Convert this dataframe to an interactive table.\"\n",
              "              style=\"display:none;\">\n",
              "        \n",
              "  <svg xmlns=\"http://www.w3.org/2000/svg\" height=\"24px\"viewBox=\"0 0 24 24\"\n",
              "       width=\"24px\">\n",
              "    <path d=\"M0 0h24v24H0V0z\" fill=\"none\"/>\n",
              "    <path d=\"M18.56 5.44l.94 2.06.94-2.06 2.06-.94-2.06-.94-.94-2.06-.94 2.06-2.06.94zm-11 1L8.5 8.5l.94-2.06 2.06-.94-2.06-.94L8.5 2.5l-.94 2.06-2.06.94zm10 10l.94 2.06.94-2.06 2.06-.94-2.06-.94-.94-2.06-.94 2.06-2.06.94z\"/><path d=\"M17.41 7.96l-1.37-1.37c-.4-.4-.92-.59-1.43-.59-.52 0-1.04.2-1.43.59L10.3 9.45l-7.72 7.72c-.78.78-.78 2.05 0 2.83L4 21.41c.39.39.9.59 1.41.59.51 0 1.02-.2 1.41-.59l7.78-7.78 2.81-2.81c.8-.78.8-2.07 0-2.86zM5.41 20L4 18.59l7.72-7.72 1.47 1.35L5.41 20z\"/>\n",
              "  </svg>\n",
              "      </button>\n",
              "      \n",
              "  <style>\n",
              "    .colab-df-container {\n",
              "      display:flex;\n",
              "      flex-wrap:wrap;\n",
              "      gap: 12px;\n",
              "    }\n",
              "\n",
              "    .colab-df-convert {\n",
              "      background-color: #E8F0FE;\n",
              "      border: none;\n",
              "      border-radius: 50%;\n",
              "      cursor: pointer;\n",
              "      display: none;\n",
              "      fill: #1967D2;\n",
              "      height: 32px;\n",
              "      padding: 0 0 0 0;\n",
              "      width: 32px;\n",
              "    }\n",
              "\n",
              "    .colab-df-convert:hover {\n",
              "      background-color: #E2EBFA;\n",
              "      box-shadow: 0px 1px 2px rgba(60, 64, 67, 0.3), 0px 1px 3px 1px rgba(60, 64, 67, 0.15);\n",
              "      fill: #174EA6;\n",
              "    }\n",
              "\n",
              "    [theme=dark] .colab-df-convert {\n",
              "      background-color: #3B4455;\n",
              "      fill: #D2E3FC;\n",
              "    }\n",
              "\n",
              "    [theme=dark] .colab-df-convert:hover {\n",
              "      background-color: #434B5C;\n",
              "      box-shadow: 0px 1px 3px 1px rgba(0, 0, 0, 0.15);\n",
              "      filter: drop-shadow(0px 1px 2px rgba(0, 0, 0, 0.3));\n",
              "      fill: #FFFFFF;\n",
              "    }\n",
              "  </style>\n",
              "\n",
              "      <script>\n",
              "        const buttonEl =\n",
              "          document.querySelector('#df-cf6cce19-dcbb-4c73-b3b9-ddb697efeb6a button.colab-df-convert');\n",
              "        buttonEl.style.display =\n",
              "          google.colab.kernel.accessAllowed ? 'block' : 'none';\n",
              "\n",
              "        async function convertToInteractive(key) {\n",
              "          const element = document.querySelector('#df-cf6cce19-dcbb-4c73-b3b9-ddb697efeb6a');\n",
              "          const dataTable =\n",
              "            await google.colab.kernel.invokeFunction('convertToInteractive',\n",
              "                                                     [key], {});\n",
              "          if (!dataTable) return;\n",
              "\n",
              "          const docLinkHtml = 'Like what you see? Visit the ' +\n",
              "            '<a target=\"_blank\" href=https://colab.research.google.com/notebooks/data_table.ipynb>data table notebook</a>'\n",
              "            + ' to learn more about interactive tables.';\n",
              "          element.innerHTML = '';\n",
              "          dataTable['output_type'] = 'display_data';\n",
              "          await google.colab.output.renderOutput(dataTable, element);\n",
              "          const docLink = document.createElement('div');\n",
              "          docLink.innerHTML = docLinkHtml;\n",
              "          element.appendChild(docLink);\n",
              "        }\n",
              "      </script>\n",
              "    </div>\n",
              "  </div>\n",
              "  "
            ]
          },
          "metadata": {},
          "execution_count": 12
        }
      ]
    },
    {
      "cell_type": "code",
      "source": [
        "data['sentiment'].value_counts()"
      ],
      "metadata": {
        "colab": {
          "base_uri": "https://localhost:8080/"
        },
        "id": "u46fN7xMLAKK",
        "outputId": "ce149cc9-492a-4453-ffc0-0790c75d9247"
      },
      "execution_count": 13,
      "outputs": [
        {
          "output_type": "execute_result",
          "data": {
            "text/plain": [
              "positive    25000\n",
              "negative    25000\n",
              "Name: sentiment, dtype: int64"
            ]
          },
          "metadata": {},
          "execution_count": 13
        }
      ]
    },
    {
      "cell_type": "code",
      "source": [
        "data.shape"
      ],
      "metadata": {
        "colab": {
          "base_uri": "https://localhost:8080/"
        },
        "id": "JndEAS9g8JlR",
        "outputId": "f7e094e7-a89c-452b-bfa0-39879992dc18"
      },
      "execution_count": 14,
      "outputs": [
        {
          "output_type": "execute_result",
          "data": {
            "text/plain": [
              "(50000, 2)"
            ]
          },
          "metadata": {},
          "execution_count": 14
        }
      ]
    },
    {
      "cell_type": "markdown",
      "source": [
        "Test normalization"
      ],
      "metadata": {
        "id": "eyGp3YZyL2qK"
      }
    },
    {
      "cell_type": "markdown",
      "source": [
        "Tokenization"
      ],
      "metadata": {
        "id": "wzILMghB8Pet"
      }
    },
    {
      "cell_type": "code",
      "source": [
        "import seaborn as sns\n",
        "import matplotlib.pyplot as plt\n",
        "\n"
      ],
      "metadata": {
        "id": "paCO50IaL_1J"
      },
      "execution_count": 15,
      "outputs": []
    },
    {
      "cell_type": "code",
      "source": [
        "import nltk\n",
        "import sklearn\n",
        "from sklearn.feature_extraction.text import CountVectorizer\n",
        "from sklearn.feature_extraction.text import TfidfVectorizer\n",
        "from sklearn.preprocessing import LabelBinarizer"
      ],
      "metadata": {
        "id": "jm6C2GeAzMwM"
      },
      "execution_count": 16,
      "outputs": []
    },
    {
      "cell_type": "code",
      "source": [
        "from nltk.corpus import stopwords\n",
        "from nltk.stem.porter import PorterStemmer\n",
        "from wordcloud import wordcloud,STOPWORDS\n",
        "from nltk.stem import WordNetLemmatizer\n",
        "from nltk.tokenize import word_tokenize,sent_tokenize"
      ],
      "metadata": {
        "id": "2szhSWdT0ScR"
      },
      "execution_count": 17,
      "outputs": []
    },
    {
      "cell_type": "code",
      "source": [
        "import spacy\n",
        "import re, string, unicodedata\n",
        "from nltk.tokenize.toktok import ToktokTokenizer\n",
        "from nltk.stem import LancasterStemmer, WordNetLemmatizer\n",
        "from sklearn.linear_model import LogisticRegression, SGDClassifier\n",
        "from sklearn.naive_bayes import MultinomialNB\n",
        "from sklearn. svm import SVC\n",
        "from textblob import TextBlob\n",
        "from textblob import Word\n",
        "from sklearn. metrics import classification_report,confusion_matrix,accuracy_score\n",
        "from bs4 import BeautifulSoup"
      ],
      "metadata": {
        "id": "St1JQ5q-11fb",
        "colab": {
          "base_uri": "https://localhost:8080/"
        },
        "outputId": "74c6b774-46dc-4399-f14b-3dfd96967c66"
      },
      "execution_count": 18,
      "outputs": [
        {
          "output_type": "stream",
          "name": "stderr",
          "text": [
            "/usr/local/lib/python3.8/dist-packages/torch/cuda/__init__.py:497: UserWarning: Can't initialize NVML\n",
            "  warnings.warn(\"Can't initialize NVML\")\n"
          ]
        }
      ]
    },
    {
      "cell_type": "code",
      "source": [
        "import nltk\n",
        "nltk.download('stopwords')"
      ],
      "metadata": {
        "colab": {
          "base_uri": "https://localhost:8080/"
        },
        "id": "cuJTlgWV4Yqs",
        "outputId": "c0ef149f-584d-4719-8d7c-eddc8e9b917e"
      },
      "execution_count": 19,
      "outputs": [
        {
          "output_type": "stream",
          "name": "stderr",
          "text": [
            "[nltk_data] Downloading package stopwords to /root/nltk_data...\n",
            "[nltk_data]   Unzipping corpora/stopwords.zip.\n"
          ]
        },
        {
          "output_type": "execute_result",
          "data": {
            "text/plain": [
              "True"
            ]
          },
          "metadata": {},
          "execution_count": 19
        }
      ]
    },
    {
      "cell_type": "code",
      "source": [
        "#Tokenization of text\n",
        "tokenizers=ToktokTokenizer()\n",
        "#Setting English stopwords\n",
        "stopsword=nltk.corpus.stopwords.words('english')"
      ],
      "metadata": {
        "id": "uc8L5XmJ4onF"
      },
      "execution_count": 20,
      "outputs": []
    },
    {
      "cell_type": "code",
      "source": [
        "#Removing the noisy text\n",
        "def noiseremoval_text(text):\n",
        "  soup = BeautifulSoup(text, 'html.parser')\n",
        "  text = soup.get_text()\n",
        "  text = re.sub('\\[[^]]*\\]','',text)\n",
        "  return text"
      ],
      "metadata": {
        "id": "wkZJJbd-5Jbd"
      },
      "execution_count": 21,
      "outputs": []
    },
    {
      "cell_type": "code",
      "source": [
        "#Apply function on review column\n",
        "data['review']=data['review'].apply(noiseremoval_text)"
      ],
      "metadata": {
        "id": "DOobd5l1A0lq"
      },
      "execution_count": 22,
      "outputs": []
    },
    {
      "cell_type": "code",
      "source": [
        "data.head()"
      ],
      "metadata": {
        "colab": {
          "base_uri": "https://localhost:8080/",
          "height": 206
        },
        "id": "K0by8Nhp6MY2",
        "outputId": "c1a30d0f-6b91-4a74-bb5b-523c35763771"
      },
      "execution_count": 23,
      "outputs": [
        {
          "output_type": "execute_result",
          "data": {
            "text/plain": [
              "                                              review sentiment\n",
              "0  One of the other reviewers has mentioned that ...  positive\n",
              "1  A wonderful little production. The filming tec...  positive\n",
              "2  I thought this was a wonderful way to spend ti...  positive\n",
              "3  Basically there's a family where a little boy ...  negative\n",
              "4  Petter Mattei's \"Love in the Time of Money\" is...  positive"
            ],
            "text/html": [
              "\n",
              "  <div id=\"df-b8d4a60b-0b1e-48ac-a9ff-cfe6b2a09680\">\n",
              "    <div class=\"colab-df-container\">\n",
              "      <div>\n",
              "<style scoped>\n",
              "    .dataframe tbody tr th:only-of-type {\n",
              "        vertical-align: middle;\n",
              "    }\n",
              "\n",
              "    .dataframe tbody tr th {\n",
              "        vertical-align: top;\n",
              "    }\n",
              "\n",
              "    .dataframe thead th {\n",
              "        text-align: right;\n",
              "    }\n",
              "</style>\n",
              "<table border=\"1\" class=\"dataframe\">\n",
              "  <thead>\n",
              "    <tr style=\"text-align: right;\">\n",
              "      <th></th>\n",
              "      <th>review</th>\n",
              "      <th>sentiment</th>\n",
              "    </tr>\n",
              "  </thead>\n",
              "  <tbody>\n",
              "    <tr>\n",
              "      <th>0</th>\n",
              "      <td>One of the other reviewers has mentioned that ...</td>\n",
              "      <td>positive</td>\n",
              "    </tr>\n",
              "    <tr>\n",
              "      <th>1</th>\n",
              "      <td>A wonderful little production. The filming tec...</td>\n",
              "      <td>positive</td>\n",
              "    </tr>\n",
              "    <tr>\n",
              "      <th>2</th>\n",
              "      <td>I thought this was a wonderful way to spend ti...</td>\n",
              "      <td>positive</td>\n",
              "    </tr>\n",
              "    <tr>\n",
              "      <th>3</th>\n",
              "      <td>Basically there's a family where a little boy ...</td>\n",
              "      <td>negative</td>\n",
              "    </tr>\n",
              "    <tr>\n",
              "      <th>4</th>\n",
              "      <td>Petter Mattei's \"Love in the Time of Money\" is...</td>\n",
              "      <td>positive</td>\n",
              "    </tr>\n",
              "  </tbody>\n",
              "</table>\n",
              "</div>\n",
              "      <button class=\"colab-df-convert\" onclick=\"convertToInteractive('df-b8d4a60b-0b1e-48ac-a9ff-cfe6b2a09680')\"\n",
              "              title=\"Convert this dataframe to an interactive table.\"\n",
              "              style=\"display:none;\">\n",
              "        \n",
              "  <svg xmlns=\"http://www.w3.org/2000/svg\" height=\"24px\"viewBox=\"0 0 24 24\"\n",
              "       width=\"24px\">\n",
              "    <path d=\"M0 0h24v24H0V0z\" fill=\"none\"/>\n",
              "    <path d=\"M18.56 5.44l.94 2.06.94-2.06 2.06-.94-2.06-.94-.94-2.06-.94 2.06-2.06.94zm-11 1L8.5 8.5l.94-2.06 2.06-.94-2.06-.94L8.5 2.5l-.94 2.06-2.06.94zm10 10l.94 2.06.94-2.06 2.06-.94-2.06-.94-.94-2.06-.94 2.06-2.06.94z\"/><path d=\"M17.41 7.96l-1.37-1.37c-.4-.4-.92-.59-1.43-.59-.52 0-1.04.2-1.43.59L10.3 9.45l-7.72 7.72c-.78.78-.78 2.05 0 2.83L4 21.41c.39.39.9.59 1.41.59.51 0 1.02-.2 1.41-.59l7.78-7.78 2.81-2.81c.8-.78.8-2.07 0-2.86zM5.41 20L4 18.59l7.72-7.72 1.47 1.35L5.41 20z\"/>\n",
              "  </svg>\n",
              "      </button>\n",
              "      \n",
              "  <style>\n",
              "    .colab-df-container {\n",
              "      display:flex;\n",
              "      flex-wrap:wrap;\n",
              "      gap: 12px;\n",
              "    }\n",
              "\n",
              "    .colab-df-convert {\n",
              "      background-color: #E8F0FE;\n",
              "      border: none;\n",
              "      border-radius: 50%;\n",
              "      cursor: pointer;\n",
              "      display: none;\n",
              "      fill: #1967D2;\n",
              "      height: 32px;\n",
              "      padding: 0 0 0 0;\n",
              "      width: 32px;\n",
              "    }\n",
              "\n",
              "    .colab-df-convert:hover {\n",
              "      background-color: #E2EBFA;\n",
              "      box-shadow: 0px 1px 2px rgba(60, 64, 67, 0.3), 0px 1px 3px 1px rgba(60, 64, 67, 0.15);\n",
              "      fill: #174EA6;\n",
              "    }\n",
              "\n",
              "    [theme=dark] .colab-df-convert {\n",
              "      background-color: #3B4455;\n",
              "      fill: #D2E3FC;\n",
              "    }\n",
              "\n",
              "    [theme=dark] .colab-df-convert:hover {\n",
              "      background-color: #434B5C;\n",
              "      box-shadow: 0px 1px 3px 1px rgba(0, 0, 0, 0.15);\n",
              "      filter: drop-shadow(0px 1px 2px rgba(0, 0, 0, 0.3));\n",
              "      fill: #FFFFFF;\n",
              "    }\n",
              "  </style>\n",
              "\n",
              "      <script>\n",
              "        const buttonEl =\n",
              "          document.querySelector('#df-b8d4a60b-0b1e-48ac-a9ff-cfe6b2a09680 button.colab-df-convert');\n",
              "        buttonEl.style.display =\n",
              "          google.colab.kernel.accessAllowed ? 'block' : 'none';\n",
              "\n",
              "        async function convertToInteractive(key) {\n",
              "          const element = document.querySelector('#df-b8d4a60b-0b1e-48ac-a9ff-cfe6b2a09680');\n",
              "          const dataTable =\n",
              "            await google.colab.kernel.invokeFunction('convertToInteractive',\n",
              "                                                     [key], {});\n",
              "          if (!dataTable) return;\n",
              "\n",
              "          const docLinkHtml = 'Like what you see? Visit the ' +\n",
              "            '<a target=\"_blank\" href=https://colab.research.google.com/notebooks/data_table.ipynb>data table notebook</a>'\n",
              "            + ' to learn more about interactive tables.';\n",
              "          element.innerHTML = '';\n",
              "          dataTable['output_type'] = 'display_data';\n",
              "          await google.colab.output.renderOutput(dataTable, element);\n",
              "          const docLink = document.createElement('div');\n",
              "          docLink.innerHTML = docLinkHtml;\n",
              "          element.appendChild(docLink);\n",
              "        }\n",
              "      </script>\n",
              "    </div>\n",
              "  </div>\n",
              "  "
            ]
          },
          "metadata": {},
          "execution_count": 23
        }
      ]
    },
    {
      "cell_type": "markdown",
      "source": [
        "Stemming"
      ],
      "metadata": {
        "id": "i2-edns99aM8"
      }
    },
    {
      "cell_type": "code",
      "source": [
        "#Stemming the text\n",
        "def stemmer(text):\n",
        "  ps=nltk.PorterStemmer()\n",
        "  text= ''.join([ps.stem(word)for word in text.split()])\n",
        "  return text"
      ],
      "metadata": {
        "id": "UeBkxO4g96zX"
      },
      "execution_count": 24,
      "outputs": []
    },
    {
      "cell_type": "code",
      "source": [
        "#Apply function on review column\n",
        "data['review']=data['review'].apply(stemmer)"
      ],
      "metadata": {
        "id": "CF5oYTXi97_d"
      },
      "execution_count": 25,
      "outputs": []
    },
    {
      "cell_type": "code",
      "source": [
        "data.head()"
      ],
      "metadata": {
        "colab": {
          "base_uri": "https://localhost:8080/",
          "height": 206
        },
        "id": "I1H_6H6o_U7w",
        "outputId": "52ee10ac-59e8-4c90-c081-de4552e56849"
      },
      "execution_count": 26,
      "outputs": [
        {
          "output_type": "execute_result",
          "data": {
            "text/plain": [
              "                                              review sentiment\n",
              "0  oneoftheotherreviewhamentionthatafterwatchjust...  positive\n",
              "1  awonderlittlproduction.thefilmtechniquisveriun...  positive\n",
              "2  ithoughtthiwaawonderwaytospendtimeonatoohotsum...  positive\n",
              "3  basicthere'afamiliwherealittlboy(jake)thinkthe...  negative\n",
              "4  pettermattei'\"loveinthetimeofmoney\"isavisualst...  positive"
            ],
            "text/html": [
              "\n",
              "  <div id=\"df-7b5f1310-df1b-4f93-98a5-9ffd8c8adb71\">\n",
              "    <div class=\"colab-df-container\">\n",
              "      <div>\n",
              "<style scoped>\n",
              "    .dataframe tbody tr th:only-of-type {\n",
              "        vertical-align: middle;\n",
              "    }\n",
              "\n",
              "    .dataframe tbody tr th {\n",
              "        vertical-align: top;\n",
              "    }\n",
              "\n",
              "    .dataframe thead th {\n",
              "        text-align: right;\n",
              "    }\n",
              "</style>\n",
              "<table border=\"1\" class=\"dataframe\">\n",
              "  <thead>\n",
              "    <tr style=\"text-align: right;\">\n",
              "      <th></th>\n",
              "      <th>review</th>\n",
              "      <th>sentiment</th>\n",
              "    </tr>\n",
              "  </thead>\n",
              "  <tbody>\n",
              "    <tr>\n",
              "      <th>0</th>\n",
              "      <td>oneoftheotherreviewhamentionthatafterwatchjust...</td>\n",
              "      <td>positive</td>\n",
              "    </tr>\n",
              "    <tr>\n",
              "      <th>1</th>\n",
              "      <td>awonderlittlproduction.thefilmtechniquisveriun...</td>\n",
              "      <td>positive</td>\n",
              "    </tr>\n",
              "    <tr>\n",
              "      <th>2</th>\n",
              "      <td>ithoughtthiwaawonderwaytospendtimeonatoohotsum...</td>\n",
              "      <td>positive</td>\n",
              "    </tr>\n",
              "    <tr>\n",
              "      <th>3</th>\n",
              "      <td>basicthere'afamiliwherealittlboy(jake)thinkthe...</td>\n",
              "      <td>negative</td>\n",
              "    </tr>\n",
              "    <tr>\n",
              "      <th>4</th>\n",
              "      <td>pettermattei'\"loveinthetimeofmoney\"isavisualst...</td>\n",
              "      <td>positive</td>\n",
              "    </tr>\n",
              "  </tbody>\n",
              "</table>\n",
              "</div>\n",
              "      <button class=\"colab-df-convert\" onclick=\"convertToInteractive('df-7b5f1310-df1b-4f93-98a5-9ffd8c8adb71')\"\n",
              "              title=\"Convert this dataframe to an interactive table.\"\n",
              "              style=\"display:none;\">\n",
              "        \n",
              "  <svg xmlns=\"http://www.w3.org/2000/svg\" height=\"24px\"viewBox=\"0 0 24 24\"\n",
              "       width=\"24px\">\n",
              "    <path d=\"M0 0h24v24H0V0z\" fill=\"none\"/>\n",
              "    <path d=\"M18.56 5.44l.94 2.06.94-2.06 2.06-.94-2.06-.94-.94-2.06-.94 2.06-2.06.94zm-11 1L8.5 8.5l.94-2.06 2.06-.94-2.06-.94L8.5 2.5l-.94 2.06-2.06.94zm10 10l.94 2.06.94-2.06 2.06-.94-2.06-.94-.94-2.06-.94 2.06-2.06.94z\"/><path d=\"M17.41 7.96l-1.37-1.37c-.4-.4-.92-.59-1.43-.59-.52 0-1.04.2-1.43.59L10.3 9.45l-7.72 7.72c-.78.78-.78 2.05 0 2.83L4 21.41c.39.39.9.59 1.41.59.51 0 1.02-.2 1.41-.59l7.78-7.78 2.81-2.81c.8-.78.8-2.07 0-2.86zM5.41 20L4 18.59l7.72-7.72 1.47 1.35L5.41 20z\"/>\n",
              "  </svg>\n",
              "      </button>\n",
              "      \n",
              "  <style>\n",
              "    .colab-df-container {\n",
              "      display:flex;\n",
              "      flex-wrap:wrap;\n",
              "      gap: 12px;\n",
              "    }\n",
              "\n",
              "    .colab-df-convert {\n",
              "      background-color: #E8F0FE;\n",
              "      border: none;\n",
              "      border-radius: 50%;\n",
              "      cursor: pointer;\n",
              "      display: none;\n",
              "      fill: #1967D2;\n",
              "      height: 32px;\n",
              "      padding: 0 0 0 0;\n",
              "      width: 32px;\n",
              "    }\n",
              "\n",
              "    .colab-df-convert:hover {\n",
              "      background-color: #E2EBFA;\n",
              "      box-shadow: 0px 1px 2px rgba(60, 64, 67, 0.3), 0px 1px 3px 1px rgba(60, 64, 67, 0.15);\n",
              "      fill: #174EA6;\n",
              "    }\n",
              "\n",
              "    [theme=dark] .colab-df-convert {\n",
              "      background-color: #3B4455;\n",
              "      fill: #D2E3FC;\n",
              "    }\n",
              "\n",
              "    [theme=dark] .colab-df-convert:hover {\n",
              "      background-color: #434B5C;\n",
              "      box-shadow: 0px 1px 3px 1px rgba(0, 0, 0, 0.15);\n",
              "      filter: drop-shadow(0px 1px 2px rgba(0, 0, 0, 0.3));\n",
              "      fill: #FFFFFF;\n",
              "    }\n",
              "  </style>\n",
              "\n",
              "      <script>\n",
              "        const buttonEl =\n",
              "          document.querySelector('#df-7b5f1310-df1b-4f93-98a5-9ffd8c8adb71 button.colab-df-convert');\n",
              "        buttonEl.style.display =\n",
              "          google.colab.kernel.accessAllowed ? 'block' : 'none';\n",
              "\n",
              "        async function convertToInteractive(key) {\n",
              "          const element = document.querySelector('#df-7b5f1310-df1b-4f93-98a5-9ffd8c8adb71');\n",
              "          const dataTable =\n",
              "            await google.colab.kernel.invokeFunction('convertToInteractive',\n",
              "                                                     [key], {});\n",
              "          if (!dataTable) return;\n",
              "\n",
              "          const docLinkHtml = 'Like what you see? Visit the ' +\n",
              "            '<a target=\"_blank\" href=https://colab.research.google.com/notebooks/data_table.ipynb>data table notebook</a>'\n",
              "            + ' to learn more about interactive tables.';\n",
              "          element.innerHTML = '';\n",
              "          dataTable['output_type'] = 'display_data';\n",
              "          await google.colab.output.renderOutput(dataTable, element);\n",
              "          const docLink = document.createElement('div');\n",
              "          docLink.innerHTML = docLinkHtml;\n",
              "          element.appendChild(docLink);\n",
              "        }\n",
              "      </script>\n",
              "    </div>\n",
              "  </div>\n",
              "  "
            ]
          },
          "metadata": {},
          "execution_count": 26
        }
      ]
    },
    {
      "cell_type": "markdown",
      "source": [
        "Removing stop words"
      ],
      "metadata": {
        "id": "yBn9oXM5-BjG"
      }
    },
    {
      "cell_type": "code",
      "source": [
        "def removing_stopwords(text, is_lower_case=False):\n",
        "    tokenizers=ToktokTokenizer()\n",
        "    tokens = tokenizers.tokenize(text)\n",
        "    tokens = [i.strip() for i in tokens]\n",
        "    if is_lower_case:\n",
        "        filtokens = [i for i in tokens if i not in stop_words]\n",
        "    else:\n",
        "         filtokens = [i for i in tokens if i.lower() not in stop_words]\n",
        "    filtered_text = ' '.join(filtokens)\n",
        "    return filtered_text\n",
        "    data['text'] = data['text'].apply(removing_stopwords)\n",
        "      \n",
        "  "
      ],
      "metadata": {
        "id": "8_722NFqAvjf"
      },
      "execution_count": 27,
      "outputs": []
    },
    {
      "cell_type": "code",
      "source": [
        "import nltk\n",
        "nltk.download(\"stopwords\")\n",
        "from nltk.corpus import stopwords\n",
        "\n",
        "stop_words = stopwords.words(\"english\")\n"
      ],
      "metadata": {
        "colab": {
          "base_uri": "https://localhost:8080/"
        },
        "id": "MopvHI2jx08w",
        "outputId": "0d74820c-db8b-4c5f-9ed0-b6bad98d8c0c"
      },
      "execution_count": 28,
      "outputs": [
        {
          "output_type": "stream",
          "name": "stderr",
          "text": [
            "[nltk_data] Downloading package stopwords to /root/nltk_data...\n",
            "[nltk_data]   Package stopwords is already up-to-date!\n"
          ]
        }
      ]
    },
    {
      "cell_type": "code",
      "source": [
        "#Apply function on column\n",
        "data['review']=data['review'].apply(removing_stopwords)"
      ],
      "metadata": {
        "id": "bnwyZtNOxHMH"
      },
      "execution_count": 29,
      "outputs": []
    },
    {
      "cell_type": "code",
      "source": [
        "data.head()"
      ],
      "metadata": {
        "id": "NxPn20TMMic0",
        "colab": {
          "base_uri": "https://localhost:8080/",
          "height": 206
        },
        "outputId": "3225cc9a-4136-49a9-e5a5-22d70f93bebb"
      },
      "execution_count": 30,
      "outputs": [
        {
          "output_type": "execute_result",
          "data": {
            "text/plain": [
              "                                              review sentiment\n",
              "0  oneoftheotherreviewhamentionthatafterwatchjust...  positive\n",
              "1  awonderlittlproduction.thefilmtechniquisveriun...  positive\n",
              "2  ithoughtthiwaawonderwaytospendtimeonatoohotsum...  positive\n",
              "3  basicthere ' afamiliwherealittlboy( jake ) thi...  negative\n",
              "4  pettermattei ' \" loveinthetimeofmoney \" isavis...  positive"
            ],
            "text/html": [
              "\n",
              "  <div id=\"df-3cab4d89-d61f-47b2-b0c0-6bd028969297\">\n",
              "    <div class=\"colab-df-container\">\n",
              "      <div>\n",
              "<style scoped>\n",
              "    .dataframe tbody tr th:only-of-type {\n",
              "        vertical-align: middle;\n",
              "    }\n",
              "\n",
              "    .dataframe tbody tr th {\n",
              "        vertical-align: top;\n",
              "    }\n",
              "\n",
              "    .dataframe thead th {\n",
              "        text-align: right;\n",
              "    }\n",
              "</style>\n",
              "<table border=\"1\" class=\"dataframe\">\n",
              "  <thead>\n",
              "    <tr style=\"text-align: right;\">\n",
              "      <th></th>\n",
              "      <th>review</th>\n",
              "      <th>sentiment</th>\n",
              "    </tr>\n",
              "  </thead>\n",
              "  <tbody>\n",
              "    <tr>\n",
              "      <th>0</th>\n",
              "      <td>oneoftheotherreviewhamentionthatafterwatchjust...</td>\n",
              "      <td>positive</td>\n",
              "    </tr>\n",
              "    <tr>\n",
              "      <th>1</th>\n",
              "      <td>awonderlittlproduction.thefilmtechniquisveriun...</td>\n",
              "      <td>positive</td>\n",
              "    </tr>\n",
              "    <tr>\n",
              "      <th>2</th>\n",
              "      <td>ithoughtthiwaawonderwaytospendtimeonatoohotsum...</td>\n",
              "      <td>positive</td>\n",
              "    </tr>\n",
              "    <tr>\n",
              "      <th>3</th>\n",
              "      <td>basicthere ' afamiliwherealittlboy( jake ) thi...</td>\n",
              "      <td>negative</td>\n",
              "    </tr>\n",
              "    <tr>\n",
              "      <th>4</th>\n",
              "      <td>pettermattei ' \" loveinthetimeofmoney \" isavis...</td>\n",
              "      <td>positive</td>\n",
              "    </tr>\n",
              "  </tbody>\n",
              "</table>\n",
              "</div>\n",
              "      <button class=\"colab-df-convert\" onclick=\"convertToInteractive('df-3cab4d89-d61f-47b2-b0c0-6bd028969297')\"\n",
              "              title=\"Convert this dataframe to an interactive table.\"\n",
              "              style=\"display:none;\">\n",
              "        \n",
              "  <svg xmlns=\"http://www.w3.org/2000/svg\" height=\"24px\"viewBox=\"0 0 24 24\"\n",
              "       width=\"24px\">\n",
              "    <path d=\"M0 0h24v24H0V0z\" fill=\"none\"/>\n",
              "    <path d=\"M18.56 5.44l.94 2.06.94-2.06 2.06-.94-2.06-.94-.94-2.06-.94 2.06-2.06.94zm-11 1L8.5 8.5l.94-2.06 2.06-.94-2.06-.94L8.5 2.5l-.94 2.06-2.06.94zm10 10l.94 2.06.94-2.06 2.06-.94-2.06-.94-.94-2.06-.94 2.06-2.06.94z\"/><path d=\"M17.41 7.96l-1.37-1.37c-.4-.4-.92-.59-1.43-.59-.52 0-1.04.2-1.43.59L10.3 9.45l-7.72 7.72c-.78.78-.78 2.05 0 2.83L4 21.41c.39.39.9.59 1.41.59.51 0 1.02-.2 1.41-.59l7.78-7.78 2.81-2.81c.8-.78.8-2.07 0-2.86zM5.41 20L4 18.59l7.72-7.72 1.47 1.35L5.41 20z\"/>\n",
              "  </svg>\n",
              "      </button>\n",
              "      \n",
              "  <style>\n",
              "    .colab-df-container {\n",
              "      display:flex;\n",
              "      flex-wrap:wrap;\n",
              "      gap: 12px;\n",
              "    }\n",
              "\n",
              "    .colab-df-convert {\n",
              "      background-color: #E8F0FE;\n",
              "      border: none;\n",
              "      border-radius: 50%;\n",
              "      cursor: pointer;\n",
              "      display: none;\n",
              "      fill: #1967D2;\n",
              "      height: 32px;\n",
              "      padding: 0 0 0 0;\n",
              "      width: 32px;\n",
              "    }\n",
              "\n",
              "    .colab-df-convert:hover {\n",
              "      background-color: #E2EBFA;\n",
              "      box-shadow: 0px 1px 2px rgba(60, 64, 67, 0.3), 0px 1px 3px 1px rgba(60, 64, 67, 0.15);\n",
              "      fill: #174EA6;\n",
              "    }\n",
              "\n",
              "    [theme=dark] .colab-df-convert {\n",
              "      background-color: #3B4455;\n",
              "      fill: #D2E3FC;\n",
              "    }\n",
              "\n",
              "    [theme=dark] .colab-df-convert:hover {\n",
              "      background-color: #434B5C;\n",
              "      box-shadow: 0px 1px 3px 1px rgba(0, 0, 0, 0.15);\n",
              "      filter: drop-shadow(0px 1px 2px rgba(0, 0, 0, 0.3));\n",
              "      fill: #FFFFFF;\n",
              "    }\n",
              "  </style>\n",
              "\n",
              "      <script>\n",
              "        const buttonEl =\n",
              "          document.querySelector('#df-3cab4d89-d61f-47b2-b0c0-6bd028969297 button.colab-df-convert');\n",
              "        buttonEl.style.display =\n",
              "          google.colab.kernel.accessAllowed ? 'block' : 'none';\n",
              "\n",
              "        async function convertToInteractive(key) {\n",
              "          const element = document.querySelector('#df-3cab4d89-d61f-47b2-b0c0-6bd028969297');\n",
              "          const dataTable =\n",
              "            await google.colab.kernel.invokeFunction('convertToInteractive',\n",
              "                                                     [key], {});\n",
              "          if (!dataTable) return;\n",
              "\n",
              "          const docLinkHtml = 'Like what you see? Visit the ' +\n",
              "            '<a target=\"_blank\" href=https://colab.research.google.com/notebooks/data_table.ipynb>data table notebook</a>'\n",
              "            + ' to learn more about interactive tables.';\n",
              "          element.innerHTML = '';\n",
              "          dataTable['output_type'] = 'display_data';\n",
              "          await google.colab.output.renderOutput(dataTable, element);\n",
              "          const docLink = document.createElement('div');\n",
              "          docLink.innerHTML = docLinkHtml;\n",
              "          element.appendChild(docLink);\n",
              "        }\n",
              "      </script>\n",
              "    </div>\n",
              "  </div>\n",
              "  "
            ]
          },
          "metadata": {},
          "execution_count": 30
        }
      ]
    },
    {
      "cell_type": "markdown",
      "source": [
        "# Train test split"
      ],
      "metadata": {
        "id": "6wzYAuys-nqu"
      }
    },
    {
      "cell_type": "code",
      "source": [
        "#test dataset\n",
        "train_reviews_data=data.review[:30000]"
      ],
      "metadata": {
        "id": "1iBJqxKHpsXw"
      },
      "execution_count": 31,
      "outputs": []
    },
    {
      "cell_type": "code",
      "source": [
        "test_reviews_data=data.review[30000:]"
      ],
      "metadata": {
        "id": "D7gk6eHxz1Qi"
      },
      "execution_count": 32,
      "outputs": []
    },
    {
      "cell_type": "code",
      "source": [
        "#Count vectorizer for bag of words\n",
        "cv=CountVectorizer(min_df=0,max_df=2,binary=False,ngram_range=(1,3))\n",
        "#transformed train reviews\n",
        "cv_train=cv.fit_transform(train_reviews_data)\n",
        "cv_test=cv.transform(test_reviews_data)\n",
        "\n",
        "print('BOW_cv_train:',cv_train.shape)\n",
        "print('BOW_cv_test:',cv_test.shape)\n"
      ],
      "metadata": {
        "colab": {
          "base_uri": "https://localhost:8080/"
        },
        "id": "15qAAYFwz-H4",
        "outputId": "bffdd874-8e15-4e68-d650-25f5fa4ec702"
      },
      "execution_count": 33,
      "outputs": [
        {
          "output_type": "stream",
          "name": "stdout",
          "text": [
            "BOW_cv_train: (30000, 2778550)\n",
            "BOW_cv_test: (20000, 2778550)\n"
          ]
        }
      ]
    },
    {
      "cell_type": "markdown",
      "source": [
        "## **TF_IDF**"
      ],
      "metadata": {
        "id": "0cxNGrQ3_zyN"
      }
    },
    {
      "cell_type": "code",
      "source": [
        "from sklearn.feature_extraction.text import TfidfVectorizer\n"
      ],
      "metadata": {
        "id": "TssL5xMi3GHz"
      },
      "execution_count": 34,
      "outputs": []
    },
    {
      "cell_type": "code",
      "source": [
        "from sklearn.feature_extraction.text import TfidfVectorizer\n",
        "tf=TfidfVectorizer(min_df=0,max_df=2,binary=False,ngram_range=(1,3))\n",
        "tf_train=tf.fit_transform(train_reviews_data)\n",
        "tf_test=tf.transform(test_reviews_data)\n",
        "print('BOW_Tfid_train:',tf_train.shape)\n",
        "print('BOW_Tfid_test:',tf_test.shape)"
      ],
      "metadata": {
        "colab": {
          "base_uri": "https://localhost:8080/"
        },
        "outputId": "5f63b652-f79e-442b-e581-c286ee029337",
        "id": "yWqZnBKV2H9p"
      },
      "execution_count": 35,
      "outputs": [
        {
          "output_type": "stream",
          "name": "stdout",
          "text": [
            "BOW_Tfid_train: (30000, 2778550)\n",
            "BOW_Tfid_test: (20000, 2778550)\n"
          ]
        }
      ]
    },
    {
      "cell_type": "markdown",
      "source": [
        "## **Lable encoding**"
      ],
      "metadata": {
        "id": "szAnujFTAT-W"
      }
    },
    {
      "cell_type": "code",
      "source": [
        "#labeling the sentiment data\n",
        "label=LabelBinarizer()\n",
        "#transformed sentiment\n",
        "sentiment_data=label.fit_transform(data['sentiment'])\n",
        "print(sentiment_data.shape)"
      ],
      "metadata": {
        "colab": {
          "base_uri": "https://localhost:8080/"
        },
        "id": "MInNbies3nDS",
        "outputId": "a2218a51-7bd6-4c31-a8b4-97573c4e306e"
      },
      "execution_count": 36,
      "outputs": [
        {
          "output_type": "stream",
          "name": "stdout",
          "text": [
            "(50000, 1)\n"
          ]
        }
      ]
    },
    {
      "cell_type": "code",
      "source": [
        "train_data=data.sentiment[:30000]"
      ],
      "metadata": {
        "id": "snHt8px94Pyc"
      },
      "execution_count": 37,
      "outputs": []
    },
    {
      "cell_type": "code",
      "source": [
        "test_data=data.sentiment[30000:]"
      ],
      "metadata": {
        "id": "iPB9srHo4jUE"
      },
      "execution_count": 38,
      "outputs": []
    },
    {
      "cell_type": "code",
      "source": [
        "sentiment_data"
      ],
      "metadata": {
        "colab": {
          "base_uri": "https://localhost:8080/"
        },
        "id": "ANpJLc0k4v6J",
        "outputId": "b5d6861a-0693-4adb-e293-8fe62c2b281e"
      },
      "execution_count": 39,
      "outputs": [
        {
          "output_type": "execute_result",
          "data": {
            "text/plain": [
              "array([[1],\n",
              "       [1],\n",
              "       [1],\n",
              "       ...,\n",
              "       [0],\n",
              "       [0],\n",
              "       [0]])"
            ]
          },
          "metadata": {},
          "execution_count": 39
        }
      ]
    },
    {
      "cell_type": "code",
      "source": [
        "train_data=data.sentiment[:30000]"
      ],
      "metadata": {
        "id": "ukTMPfjQ5GUi"
      },
      "execution_count": 40,
      "outputs": []
    },
    {
      "cell_type": "code",
      "source": [
        "test_data=data.sentiment[30000:]"
      ],
      "metadata": {
        "id": "4MEpTljG5JvW"
      },
      "execution_count": 41,
      "outputs": []
    },
    {
      "cell_type": "code",
      "source": [
        "#training the model\n",
        "logistic=LogisticRegression(penalty='l2',max_iter=500,C=1,random_state=42)\n",
        "#fitting the model for bag of words\n",
        "lr_bow = logistic.fit(cv_train, train_data)\n",
        "print(lr_bow)\n",
        "#fitting the model for tfidf features\n",
        "lr_tfidf=logistic.fit(tf_train,train_data)\n",
        "print(lr_tfidf)"
      ],
      "metadata": {
        "colab": {
          "base_uri": "https://localhost:8080/"
        },
        "id": "KdFKiOSe5k9b",
        "outputId": "7488b87e-7464-4e4b-a4ab-c162f6196aa6"
      },
      "execution_count": 42,
      "outputs": [
        {
          "output_type": "stream",
          "name": "stdout",
          "text": [
            "LogisticRegression(C=1, max_iter=500, random_state=42)\n",
            "LogisticRegression(C=1, max_iter=500, random_state=42)\n"
          ]
        }
      ]
    },
    {
      "cell_type": "code",
      "source": [
        "#Predicting the model for bag of words\n",
        "lr_bow_predict=logistic.predict(cv_test)\n",
        "print(lr_bow_predict)"
      ],
      "metadata": {
        "colab": {
          "base_uri": "https://localhost:8080/"
        },
        "id": "wlEshPCv8TC1",
        "outputId": "c1f2573c-7c70-4a59-db2d-36123a1fe584"
      },
      "execution_count": 43,
      "outputs": [
        {
          "output_type": "stream",
          "name": "stdout",
          "text": [
            "['positive' 'negative' 'negative' ... 'positive' 'positive' 'negative']\n"
          ]
        }
      ]
    },
    {
      "cell_type": "code",
      "source": [
        "bow_predict=logistic.predict(cv_test)\n",
        "print(bow_predict)"
      ],
      "metadata": {
        "colab": {
          "base_uri": "https://localhost:8080/"
        },
        "id": "icCTKjOtADWk",
        "outputId": "c7c15aa4-8afb-4cca-c8e7-c8ed4845ff90"
      },
      "execution_count": 44,
      "outputs": [
        {
          "output_type": "stream",
          "name": "stdout",
          "text": [
            "['positive' 'negative' 'negative' ... 'positive' 'positive' 'negative']\n"
          ]
        }
      ]
    },
    {
      "cell_type": "code",
      "source": [
        "bow_score=accuracy_score(test_data,bow_predict)\n",
        "print('lr_bow_score:',bow_score)"
      ],
      "metadata": {
        "colab": {
          "base_uri": "https://localhost:8080/"
        },
        "outputId": "c3eb75fc-5615-43bd-fb9f-41401674c272",
        "id": "LBi3xH7n_hfT"
      },
      "execution_count": 45,
      "outputs": [
        {
          "output_type": "stream",
          "name": "stdout",
          "text": [
            "lr_bow_score: 0.6404\n"
          ]
        }
      ]
    },
    {
      "cell_type": "code",
      "source": [
        "lr_tfidf_predict=logistic.predict(tf_test)\n",
        "print(lr_tfidf_predict)"
      ],
      "metadata": {
        "colab": {
          "base_uri": "https://localhost:8080/"
        },
        "outputId": "7538f8ef-89d5-45cc-ce45-4cd9a2fd343d",
        "id": "0OsQF7ZX9LHl"
      },
      "execution_count": 46,
      "outputs": [
        {
          "output_type": "stream",
          "name": "stdout",
          "text": [
            "['positive' 'negative' 'negative' ... 'positive' 'positive' 'negative']\n"
          ]
        }
      ]
    },
    {
      "cell_type": "code",
      "source": [
        "lr_bow_score=accuracy_score(test_data,lr_bow_predict)\n",
        "print('lr_bow_score:',lr_bow_predict)"
      ],
      "metadata": {
        "colab": {
          "base_uri": "https://localhost:8080/"
        },
        "id": "hWCJXem29fQ9",
        "outputId": "16ecc900-438a-4899-8300-9c567142e1fd"
      },
      "execution_count": 47,
      "outputs": [
        {
          "output_type": "stream",
          "name": "stdout",
          "text": [
            "lr_bow_score: ['positive' 'negative' 'negative' ... 'positive' 'positive' 'negative']\n"
          ]
        }
      ]
    },
    {
      "cell_type": "code",
      "source": [
        "lr_tfidf_predict=logistic.predict(tf_test)\n",
        "print(lr_tfidf_predict)"
      ],
      "metadata": {
        "colab": {
          "base_uri": "https://localhost:8080/"
        },
        "outputId": "e0ed3aa6-5e20-4735-cbed-4fc3aaf9657b",
        "id": "hWVUGUZ1A1Kp"
      },
      "execution_count": 48,
      "outputs": [
        {
          "output_type": "stream",
          "name": "stdout",
          "text": [
            "['positive' 'negative' 'negative' ... 'positive' 'positive' 'negative']\n"
          ]
        }
      ]
    },
    {
      "cell_type": "code",
      "source": [
        "lr_tfidf_score=accuracy_score(test_data,lr_tfidf_predict)\n",
        "print('lr_tfidf_score:',lr_tfidf_score)"
      ],
      "metadata": {
        "colab": {
          "base_uri": "https://localhost:8080/"
        },
        "outputId": "53004d82-0f3b-4b47-b225-4cb6284cc12f",
        "id": "YvbrO22HBI6b"
      },
      "execution_count": 49,
      "outputs": [
        {
          "output_type": "stream",
          "name": "stdout",
          "text": [
            "lr_tfidf_score: 0.6405\n"
          ]
        }
      ]
    },
    {
      "cell_type": "code",
      "source": [
        "import pandas as pd\n",
        "\n",
        "# Load the dataset\n",
        "df = pd.read_csv('/content/drive/MyDrive/Colab Notebooks/IMDB Dataset.csv')\n",
        "\n",
        "# Convert categorical variables into numerical variables using one-hot encoding\n",
        "df = pd.get_dummies(df, columns=[\"review\"])\n",
        "\n",
        "# Check the data again\n",
        "print(df.head(2))\n"
      ],
      "metadata": {
        "colab": {
          "base_uri": "https://localhost:8080/"
        },
        "outputId": "88f785e0-ce64-47ea-a480-ced4280d48f4",
        "id": "dSuvYQhiWIgB"
      },
      "execution_count": 50,
      "outputs": [
        {
          "output_type": "stream",
          "name": "stdout",
          "text": [
            "  sentiment  \\\n",
            "0  positive   \n",
            "1  positive   \n",
            "\n",
            "   review_\b\b\b\bA Turkish Bath sequence in a film noir located in New York in the 50's, that must be a hint at something ! Something that curiously, in all the previous comments, no one has pointed out , but seems to me essential to the understanding of this movie <br /><br />the Turkish Baths sequence: a back street at night, the entrance of a sleazy sauna, and Scalise wrapped in a sheet, getting his thighs massaged. Steve, the masseur is of the young rough boxer ( Beefcake!) type , and another guy, a bodyguard? finishes dressing up. Dixon obviously hates what he sees there and gets rough right away. We know he has a reputation for roughing up suspects. Good cop but getting out of control easy. Why is it that he hates them so much ? <br /><br />Could it be that he hates himself. This part of himself he inherited from his father ? That dark side that could lead him right at the end of the sidewalk, into the gutter ? What if that dark side lurked within a \"closet\" ? Remember : whenever Dixon meets Scalise ( 3 times), the guy is lying on a bed, and he only has men around him for company ( the irony of the \" Girls\" poster pinned up on the wall near his bed !).<br /><br />Scalise acts funny: affected manners, cranking his neck arrogantly, defiant, shoving his inhalator ( poppers ?) into his nostrils each time he talks to Dixon. Dixon, with a vengeance, is bent on pinning down Scalise who seems not to understand : \"I never saw a man so full of hate as you. I consider it almost humorous the way you came after me alone. \" Four years jumping at me as if I was somebody special! Why? \"<br /><br />Because Scalise is someone special indeed : he is the direct inheritor of Dixon's father : \" Your father liked me\", \"Your father set me up in business\". He stands as Dixon's criminal brother, his dark side incarnate. And to top it all, he prefers the company of men. Dixon knows it well :\" Who killed him (Paine)? You or one of your playmates?\" Playmates ! Notice how each time they meet, Dixon manhandles Scalise: he picks the address-book out of his jacket, slaps his face, punches him. Scalise : \"I warn you not to touch me! \" . Dixon's homophobia is obvious. Or put it different : his unexpressed homosexuality . Dixon, aka Dixon's kid, is the son of a thief. In reaction to this, he decided to become a cop, a good one, but there is something of the criminal in him, a dark side: he is a violent copper, a murderer, a liar. Besides, he is not married, brings \"a dizzy blonde\" to his familiar eat-out place every now and then, but nothing else. The waitress scoffing says that he doesn't know how to make love to a woman. Dixon has a deep feeling of guilt and hates himself for those reasons.\" A hood and a mobster like his old man. Blood will tell\". Finally, in order to achieve redemption, Dixon decides to sacrifice himself : if he gets his alter ego Scalise to kill him, he will free himself from the guilt and free the girl and her father too.<br /><br />The end of the movie brings us back to the opening sequence : Scalise is pushed in the gutter and Dixon deserves the right to walk the sidewalk and wins the love of the dame. He is straight at last.<br /><br />The unspoken theme of the movie could very well be that of a man who in order to cover his repressed feelings, wants to experience a woman's love ( Jean Douchet)<br /><br />(These notes owe a lot to the film commentary by Jean Douchet in the French DVD edited by CarlottaI  \\\n",
            "0                                                  0                                                                                                                                                                                                                                                                                                                                                                                                                                                                                                                                                                                                                                                                                                                                                                                                                                                                                                                                                                                                                                                                                                                                                                                                                                                                                                                                                                                                                                                                                                                                                                                                                                                                                                                                                                                                                                                                                                                                                                                                                                                                                                                                                                                                                                                                                                                                                                                                                                                                                                                                                                                                                                                                                                                                                                                                                                                                                                                                                                                                                                                                                                                                                                                                                                                                                                                                                                                                                                                                                                                                                 \n",
            "1                                                  0                                                                                                                                                                                                                                                                                                                                                                                                                                                                                                                                                                                                                                                                                                                                                                                                                                                                                                                                                                                                                                                                                                                                                                                                                                                                                                                                                                                                                                                                                                                                                                                                                                                                                                                                                                                                                                                                                                                                                                                                                                                                                                                                                                                                                                                                                                                                                                                                                                                                                                                                                                                                                                                                                                                                                                                                                                                                                                                                                                                                                                                                                                                                                                                                                                                                                                                                                                                                                                                                                                                                                 \n",
            "\n",
            "   review_!!! Spoiler alert!!!<br /><br />The point is, though, that I didn't think this film had an ending TO spoil... I only started watching it in the middle, after Matt had gotten into Sarah's body, but then I became fascinated by the bizarreness of the plot, even for a Channel 5 movie... and couldn't possibly see how Matt wld end up happy. What about his fiancee? At one stage looked like he was gonna get with his best friend, surely icky and wrong... and then the whole 'oggi oggi oggi' thing does NOT WORK as a touching buddy-buddy catchphrase, tis just ridiculous... so was going 'surely he can't just come back to life? and yet how can he live as a woman?' and then the film just got over that by ending and not explaining anything at all!!!!! What's that about??? I was so cross, wasted a whole hour of my life for no reason at all!!! :) but was one of the funniest films I've ever seen, so, swings and roundabouts  \\\n",
            "0                                                  0                                                                                                                                                                                                                                                                                                                                                                                                                                                                                                                                                                                                                                                                                                                                                                                                                                                                                                              \n",
            "1                                                  0                                                                                                                                                                                                                                                                                                                                                                                                                                                                                                                                                                                                                                                                                                                                                                                                                                                                                                              \n",
            "\n",
            "   review_!!!! MILD SPOILERS !!!!<br /><br />The premise goes like this : A store gets burnt down and assistant Sergio is asked by the father of the man who started the fire to take the wrap to which Sergio agrees .<br /><br />So far so good , but there`s a fair lapse of logic involved Sergio agrees to do this for the sum of 25,000 dollars but why ? Come on guys if you were a good looking white boy would you run the risk of getting a long spell in a tough jail ( A very real possibilty for arson ) for the sake of 25 grand ? I know I wouldn`t , and seeing as you`d have a criminal record no employer would want to touch you with a barge pole so is $25,000 dollars all that much for a life of workfare and welfare cheques ? There`s also something else that seems to have gone without notice from the premise , since Mister Lumpke has told Sergio that his son did the fire he seems unware of the possibility that he may know too much . Wouldn`t alarm bells be ringing in your mind about someone wanting to keep you quite if they told you something ? <br /><br />I guess we`re not suppossed to think about such details since A PYROMANIAC`S LOVE STORY isn`t suppossed to be an intelligent thriller , it`s a light hearted romantic comedy/ chick flick that`s probably best apprieciated as a girls night in . Looking through this comments page it is obvious that the movie has its defenders but as a cynical male I wasn`t too impressed and William Baldwin does go way over the top  \\\n",
            "0                                                  0                                                                                                                                                                                                                                                                                                                                                                                                                                                                                                                                                                                                                                                                                                                                                                                                                                                                                                                                                                                                                                                                                                                                                                                                                                                                                                                                                                                                                                                                                    \n",
            "1                                                  0                                                                                                                                                                                                                                                                                                                                                                                                                                                                                                                                                                                                                                                                                                                                                                                                                                                                                                                                                                                                                                                                                                                                                                                                                                                                                                                                                                                                                                                                                    \n",
            "\n",
            "   review_!!!! MILD SPOILERS !!!!<br /><br />With the exception of THE TERMINATOR and TOTAL RECALL I don`t think Arnie`s action/adventure movies are up to much . They`re better than his comedies for sure but that`s hardly saying much . The problem I have with his all action blockbusters is that they`re overblown and lacking in any sort of morality <br /><br />Morality ? I mentioned in my review of TERMINATOR 2 the scene where good guy Terminator blows the kneecaps off the SWAT team . Are we to think that because the hero maims people doing their job instead of killing them we will admire him in someway ? This is the problem with ERASER , when James Cann`s character is revealed as a traitor within the US Marshal department Arnie`s character John Kruger goes on the run with a witness he`s protecting but in several later sequences Kruger kills a fairly large amount of marshals working with the villain . Are we take it they were all traitors too ? Surely many of them were honest men who were trying to stop Kruger because the bad guy told them Kruger was the traitor ? It`s a rather uneasy thought that Kruger killed several people who were trying to genuinely up hold the law <br /><br />Despite costing one hundred million dollars the special effects aren`t all that impressive . Look at the scene where Kruger lets go of the jet wing and scrambles to put on a parachute . It`s obvious as the action intercuts that it`s a stuntman who`s doing the free fall sequence while Arnie is in a studio in front of a blue screen . ERASER is also a film that has unnecessary CGI featuring killer alligators , not only unnecessary CGI but unconvincing CGI too . There`s also a few plot holes like in the opening scene involving a couple of witness protection people that the mob has caught up with . Kruger opens a car trunk and pulls out a couple of bodies and starts a fire thereby throwing the mob of the scent . Kruger is next seen rearranging the dental records via computer of the couple he`s saved . It would be logical to do this but would ALL the couples dental records be kept on computer ? Most importantly of all are we to believe the US Marshal department keep a freezer full of bodies for such events ?<br /><br />So they`re you go , a typical Arnie thriller long on unlikely set pieces and short on intelligence and it`s interesting to note that ERASER didn`t make much of a profit at the box office as the production costs almost outweighed a potential audience figure . After ERASER Arnie didn`t do much more business at the box office save for TERMINATOR 3 : RISE OF THE MACHINES which was an event movie and it`ll be interesting to see if he`ll be remembered as a politician rather than a movie star  \\\n",
            "0                                                  0                                                                                                                                                                                                                                                                                                                                                                                                                                                                                                                                                                                                                                                                                                                                                                                                                                                                                                                                                                                                                                                                                                                                                                                                                                                                                                                                                                                                                                                                                                                                                                                                                                                                                                                                                                                                                                                                                                                                                                                                                                                                                                                                                                                                                                                                                                                                                                                                                                                                                                                                                                                                                                                                                                                                                                              \n",
            "1                                                  0                                                                                                                                                                                                                                                                                                                                                                                                                                                                                                                                                                                                                                                                                                                                                                                                                                                                                                                                                                                                                                                                                                                                                                                                                                                                                                                                                                                                                                                                                                                                                                                                                                                                                                                                                                                                                                                                                                                                                                                                                                                                                                                                                                                                                                                                                                                                                                                                                                                                                                                                                                                                                                                                                                                                                                              \n",
            "\n",
            "   review_!!!! POSSIBLE MILD SPOILER !!!!!<br /><br />As I watched the first half of GUILTY AS SIN I couldn`t believe it was made in 1993 because it played like a JAGGED EDGE / Joe Eszterhas clone from the mid 80s . It starts with a murder and it`s left for the audience to muse \" Is he guilty or innocent and will he go to bed with his attorney ? \" , but halfway through the film shows its early 90s credentials by turning into a \" Lawyer gets manipulated and stalked by her client \" type film which ends in a ridiculous manner , and GUILTY AS SIN has an even more ridiculous ending in this respect .<br /><br />This is a very poor thriller but the most unforgivable thing about it is that it was directed by Sidney Lumet the same man who brought us the all time classic court room drama 12 ANGRY MEN  \\\n",
            "0                                                  0                                                                                                                                                                                                                                                                                                                                                                                                                                                                                                                                                                                                                                                                                                                                                                                \n",
            "1                                                  0                                                                                                                                                                                                                                                                                                                                                                                                                                                                                                                                                                                                                                                                                                                                                                                \n",
            "\n",
            "   review_!!!!! OF COURSE THERE'S SPOILERS !!!!! I'm sure this project started off as a screen writing workshop on avoiding clichés in horror movies: Female protagonist - Check Bad things happen to drug takers - Check Heorine knocks out villain - Check Heroine doesn't notice villain recovering unconsciousness - Check Frame the sequence so we see recovered villain creep up behind heroine - Check Unfortunately it seems someone has sent this cliché list to a film studio instead of using it for class . Dear oh dear if only London transport was as regular as the clichés turning up here . In fact there's so many clichés and seen it all before moments that no one actually thought about going into detail as to what the eponymous creep is or how long he's been killing people on the underground . I'm led to believe it's the result of some human experiment and perhaps it's not until that night he decided to take his revenge out on humanity but all this is so vague as to be meaningless Not to be totally negative I doubt very much if the producers thought they'd be making a film that was going to sweep the Oscars that year and there's always a market for horror movies . Likewise I doubt if it cost too much produce and had one eye on the DVD market rather than cinema distribution and I will state that it's slightly better than 1972's DEATH LINE which also featured a murderous cannibal hiding in the London underground . it's just that when you think all the clichés have been used up in this film another cliché comes along to raise its ugly head  \\\n",
            "0                                                  0                                                                                                                                                                                                                                                                                                                                                                                                                                                                                                                                                                                                                                                                                                                                                                                                                                                                                                                                                                                                                                                                                                                                                                                                                                                                                                                                                                                                                                                                                                                                                                  \n",
            "1                                                  0                                                                                                                                                                                                                                                                                                                                                                                                                                                                                                                                                                                                                                                                                                                                                                                                                                                                                                                                                                                                                                                                                                                                                                                                                                                                                                                                                                                                                                                                                                                                                                  \n",
            "\n",
            "   review_!!!!! POSSIBLE SPOILER !!!!!<br /><br />You`d think a story involving Archie Grey Owl - An Englishman posing as a red indian - would have a massive amount of humour involved . In fact I`d say the only way to treat a film like this where a remarkable man cons the gullible public is to treat it as a comedy . However Richard Attenborough commits something akin to a crime by making GREY OWL a serious drama . Worse , he`s made an extremely dire film too . Pierce Brosnan lacks the charisma needed for the title role and the romantic subplot between Grey Owl and Pony ( Played by the equally wooden Annie Gaupeau ) lacks any type of on screen chemistry . But to be fair to the cast their not helped with the script which fails to portray Archie as the cheeky chappy he is of fooling everyone into believing he`s a native American . The producers and screenwriter have made the major error of having the film centre around the plot twist of Archie being an Englishman - That`s why I wrote \" Possible spoiler \" it`s not actually revealed untill late in the film that the title character is English , but it`s obvious that everyone who viewed this movie knew that beforehand hence there`s absolutely no surprise involved.<br /><br />Yes I do agree with everyone that the scenery is lovely and that it has a deep ecological message which isn`t actually a new concept . Theodore Roosevelt was the first important environmentalist of the 20th century if truth be told . And it should also be remembered that with the exception of SOYLENT GREEN ( And possibly THE TWO TOWERS if you want to class it as having a green message ) that there hasn`t actually been a great ecological film . In fact most environmentally concious films suck and that includes GREY OWL , a film that unsurprisingly had a serious problem in finding a distributor  \\\n",
            "0                                                  0                                                                                                                                                                                                                                                                                                                                                                                                                                                                                                                                                                                                                                                                                                                                                                                                                                                                                                                                                                                                                                                                                                                                                                                                                                                                                                                                                                                                                                                                                                                                                                                                                                                                                                                                                                                                                                                            \n",
            "1                                                  0                                                                                                                                                                                                                                                                                                                                                                                                                                                                                                                                                                                                                                                                                                                                                                                                                                                                                                                                                                                                                                                                                                                                                                                                                                                                                                                                                                                                                                                                                                                                                                                                                                                                                                                                                                                                                                                            \n",
            "\n",
            "   review_\" Domino \" has been widely condemned on this site for its frenetic editing style and \" sickening \" photography. It's detractors cite its superficiality and criticize its deployment of \" style over substance\" I couldn't disagree more. I believe that \" Domino \" represents the absolute height of Tony Scott's film-making career. <br /><br />After having created the dominant Hollywood action movie style throughout the late eighties and early nineties Tony Scott has moved progressively closer to a more subjective style of cinema. As early as \"Crimson Tide\" Scott used his stylistic talent to portray the inner worlds of his characters- the claustrophobia and drama inherent in the conflict on board a nuclear submarine was embodied in the excellent use of long lenses combined with dutched-angle framing. This was then carried through to \" Enemy Of The State\" and \"Spy Game\" which visually represented the worlds of surveillance and espionage respectively. <br /><br />\" Man On Fire\" was an extreme departure , a move into an expressionist more painterly aesthetic. Here Scott used an antiquated hand cranked camera and flash frames to express his character's explosive rage . Although not entirely successful it introduced the techniques which were to find their full expression in \" Domino\"<br /><br />Couched in the framing device of an FBI interrogation \" Domino\" presents the life of the infamous bounty hunter via her narrated disjointed fragments of memory. She grasps at memories as we all do- in fragments, flashes and brief snatches. As Domino relays her story verbally Scott relays it visually illustrating not only the events which she describes but also the point of view which guides them. She does have \" traces of mescaline\" in her system but her individual vision is anyway Unusual -that of an woman who eschewed the life of luxury for bounty hunting. <br /><br />It is when Domino begins to relate the events which lead to her captivity that Scott really lets rip. Together with Cinematographer Dan Mindel and composer Harry-Gregson Williams Scott orchestrates a postmodern canvas of contemporary Americana. Gradually we begin to realize that unusual though she may be Domino is no more disjointed than the \"90210\" culture she has rejected. As she wades through this cultural melange Scott makes his viewer more aware of the innocence which it destroys through the underprivileged children which the narrative introduces. Ultimately Scott portrays their salvation as the only escape we have from this surreal trip. <br /><br />To criticize this movie for being overly stylized is akin to criticizing a Picasso or a Pollock for not representing that which is recognizably human. Like any great painting the meaning in \" Domino\" is in the surface and the surface is everything. <br /><br />I am not in any way associated with Scott Free but have always been and will continue to be a huge admirer of Tony Scott's work  \\\n",
            "0                                                  0                                                                                                                                                                                                                                                                                                                                                                                                                                                                                                                                                                                                                                                                                                                                                                                                                                                                                                                                                                                                                                                                                                                                                                                                                                                                                                                                                                                                                                                                                                                                                                                                                                                                                                                                                                                                                                                                                                                                                                                                                                                                                                                                                                                                                                                                                                                                                                                                                                                                                                                                                                                                                                                                                                                                                                                                                                                                                                                                                                                                              \n",
            "1                                                  0                                                                                                                                                                                                                                                                                                                                                                                                                                                                                                                                                                                                                                                                                                                                                                                                                                                                                                                                                                                                                                                                                                                                                                                                                                                                                                                                                                                                                                                                                                                                                                                                                                                                                                                                                                                                                                                                                                                                                                                                                                                                                                                                                                                                                                                                                                                                                                                                                                                                                                                                                                                                                                                                                                                                                                                                                                                                                                                                                                                                              \n",
            "\n",
            "   review_\" I have wrestled with death. It is the most unexciting contest you can imagine. It takes place in an impalpable grayness, with nothing underfoot, with nothing around, without spectators, without clamor, without glory, without the great desire of victory, without the great fear of defeat, in a sickly atmosphere of tepid skepticism, without much belief in your own right, and still less in that of your adversary. If such is the form of ultimate wisdom, then life is a greater riddle than some of us think it to be.\" Marlow in Joseph Conrad's \"Heart of Darkness\"<br /><br />It's difficult to make lyrical the subject of death in any work of art. Yet movies have recently made bold attempts to humanize it to the extent that it is embraced as a part of the cycle of all living things, and it can be chosen rather than legislated. \"Chosen\" is the operative word for Alejandro Amenabar's Sea Inside, based loosely on the true story of the Galician sailor Ramon Sampedro. It is a drama about euthanasia without prejudice clothed in love, poetry, and friendship. If it sounds like Barbarian Invasions (2003), in which a cancerous professor says farewell to lifelong friends and loves before he takes his life, then you are right. In fact, Sea is better because it spends more intimate time with the protagonist before he goes, a remarkable feat with not one of those moments in the least dull or uninteresting.<br /><br />Javier Bardem as Ramon has expressive eyes and commanding voice for the romantic quadriplegic, a combination of tough realist and poetic sufferer. Belen Rueda plays the disabled lawyer Julia, who becomes an imaginary lover for Ramon, increasing in radiance as her life degenerates with disease. Added to the already almost soap opera circumstance is Lola Duenas as Rosa, a blue collar visitor who initially tries to dissuade Ramon from seeking death but quickly falls in love with him. Talk about romanticizing disabilityThis guy has unbelievable luck attracting substantial women, and he can't move a finger. But talk he can, proving the ultimate argument about what women want: love that speaks, not just makes.<br /><br />I will refrain from mentioning the major motion picture now up for an Oscar that features euthanasia as its climax in order not to spoil the experience for first timers. Sufficient it is just to say both films are successful in opening up both sides of a contentious subject without forcing a specific point of view. The religious right has a right to complain that the former film and Barbarian Invasions celebrate suicide; it has no right to accuse the beautifully balanced Sea Inside of the same.<br /><br />\"A life in this condition has no dignity,\" Ramon says. The irony is he conducts himself with supreme dignity that makes anyone question his determination to end his life. \"The Sea Inside\" is a formidable entry in 2004's Oscar nominations for best foreign language film.  \\\n",
            "0                                                  0                                                                                                                                                                                                                                                                                                                                                                                                                                                                                                                                                                                                                                                                                                                                                                                                                                                                                                                                                                                                                                                                                                                                                                                                                                                                                                                                                                                                                                                                                                                                                                                                                                                                                                                                                                                                                                                                                                                                                                                                                                                                                                                                                                                                                                                                                                                                                                                                                                                                                                                                                                                                                                                                                                                                                                                                                                                                                                                                                                                                     \n",
            "1                                                  0                                                                                                                                                                                                                                                                                                                                                                                                                                                                                                                                                                                                                                                                                                                                                                                                                                                                                                                                                                                                                                                                                                                                                                                                                                                                                                                                                                                                                                                                                                                                                                                                                                                                                                                                                                                                                                                                                                                                                                                                                                                                                                                                                                                                                                                                                                                                                                                                                                                                                                                                                                                                                                                                                                                                                                                                                                                                                                                                                                                                     \n",
            "\n",
            "   ...  \\\n",
            "0  ...   \n",
            "1  ...   \n",
            "\n",
            "   review_you know I've seen a lot of crappy hong kong movies in terms of production and were good. But Running out of TIme was great.<br /><br />i guess what made it so good was the fact that Andy Lau and Ching Wang, have such great chemistry. The film at first is really fast paced but slows down not enough to even notice which is also good, we don't want to have a heart attack,lol. In terms of plot their is enough of other things going on to keep you interested. Lau has some pretty good moments as he uses make up to impersonate people from the underworld. Also the movie has the best oriental supporting cast since \"house of Flying Daggers\".<br /><br />The movie is great because its so unpredictable and leaves you wondering at every corner. Definitely a good rental with tons of comedy, action and thrills pact in to one, 8 out of 10  \\\n",
            "0                                                  0                                                                                                                                                                                                                                                                                                                                                                                                                                                                                                                                                                                                                                                                                                                                                                                                                          \n",
            "1                                                  0                                                                                                                                                                                                                                                                                                                                                                                                                                                                                                                                                                                                                                                                                                                                                                                                                          \n",
            "\n",
            "   review_you know, i always fancy disturbing or strange movies, especially when they get shown at the fantasy film festival in hamburg, germany. but subconscious cruelty was probably the worst film i saw this year. will this comment contain any spoilers?<br /><br />no, because i just did not understand this movie. but well, what can you expect from a flick that was introduced to a festival crowd \"we (the guys from the festival) know that not all of you will watch this one until the very end\"...<br /><br />i like splatter movies and i also like movies with a strong graphical language. but this? there are a lot of bloody scenes in this one, but why? what is the director trying to tell us? is he saying that we lost all morality and all religious feelings? or is he saying that incest will always end in a disaster? who knows - i do not.<br /><br />if you want to watch a movie that keeps you thinking for quite some time - watch it. but don´t expect to think \"wow, i got the message\" - i did not get it...  \\\n",
            "0                                                  0                                                                                                                                                                                                                                                                                                                                                                                                                                                                                                                                                                                                                                                                                                                                                                                                                                                                                                                                                                                                    \n",
            "1                                                  0                                                                                                                                                                                                                                                                                                                                                                                                                                                                                                                                                                                                                                                                                                                                                                                                                                                                                                                                                                                                    \n",
            "\n",
            "   review_you must be seeing my comments over many films under Evren Buyruk ..I am off to make another comment over a movie that is not even worth a minute of talking though..This film is basically two hours of Dafoe's character drinking himself - nearly literally - to death. The only surprise in this film is that you didn't have enough clues or character knowledge to be surprised. It was just a grim, sad waste of time.<br /><br />Willem Dafoe is excellent actor. Peter Stormare is an excellent actor. But this film just sucked. Slow doesn't make the movie bad, it was just bad. The sketchy plot mixed with artistic ramblings of anamorphic detail aren't cohesively drawn together in a meaningful way for a plot except to highlight some gore which is illustrated from several perspectives, finally at the end. I really appreciate the artistic vision, but as entertainment, it put me to sleep. (Seriously, I fell asleep and had to re-watch the film - which was even more disappointing.) I generally don't like to make negative comments or reviews on the works of others, even when they suck, but this film warranted one. It's just too bad that these great actors were shamed with this end result.  \\\n",
            "0                                                  0                                                                                                                                                                                                                                                                                                                                                                                                                                                                                                                                                                                                                                                                                                                                                                                                                                                                                                                                                                                                                                                                                                                                                                                             \n",
            "1                                                  0                                                                                                                                                                                                                                                                                                                                                                                                                                                                                                                                                                                                                                                                                                                                                                                                                                                                                                                                                                                                                                                                                                                                                                                             \n",
            "\n",
            "   review_you will likely be sorely disappointed by this sequel that's not a sequel.AWIL is a classic.but this movie is about as far from being a classic as you can get.what a joke.special effects that aren't very special,horrible dialogue,non acting.and a laughably ridiculous subplot quickly and unconvincingly,(not to mention fleeting)tacked on with about a third of the movie left.did i mention the story is less then lame.there's no way this was supposed to be serious horror movie,yet it's to stupid to be funny in any good way.the rating it currently has(4.8/10)is too generous if you ask me.my rating for An American Werewolf in Paris:a 3.5/10  \\\n",
            "0                                                  0                                                                                                                                                                                                                                                                                                                                                                                                                                                                                                                                                                                                                          \n",
            "1                                                  0                                                                                                                                                                                                                                                                                                                                                                                                                                                                                                                                                                                                                          \n",
            "\n",
            "   review_zero day is based of columbine high school massacre. and its a video diary of two boys. at first you don't know whats going to happen you think it is just a bad student film. until they start talking about the horrible things they are going to do in this quite school. until they start talking about pipe bombs and guns and going shooting in the woods. they is a lot to say about this movie. all know this film is well a film you forget you watching a film and watching a real video two boys made.<br /><br />the two boys act like they are in a weird cult. they burn all there stuff. like play station games books dvds homework stuff school stuff. these two boys can be anybody your friends you brothers or the people you see walking down the street. it goes through there daily actives (and that is making a gun. in the videos they make it mentions the bullying that happens to them and how people said stuff about there clothes and the things you are into I'm not saying its right but many people do do things like that.<br /><br />and also the thing is with this people are suspected to like it because of the sensitive topic they have chosen on this film.<br /><br />so thats my review on zero day.<br /><br />and lets just say the end shooting scene is messed up.  \\\n",
            "0                                                  0                                                                                                                                                                                                                                                                                                                                                                                                                                                                                                                                                                                                                                                                                                                                                                                                                                                                                                                                                                                                                                                                                                                                                                                                                                                                             \n",
            "1                                                  0                                                                                                                                                                                                                                                                                                                                                                                                                                                                                                                                                                                                                                                                                                                                                                                                                                                                                                                                                                                                                                                                                                                                                                                                                                                                             \n",
            "\n",
            "   review_{Possible spoilers coming up... you've been forewarned.}<br /><br />This is absolutely one of my all time favorite musicals and movie musicals! (The other is Damn Yankees with Gwen Verdon, Tab Hunter and Ray Walston) As we all know, sometimes the luster (not to mention the songs) of a show are lost in its transition from stage to screen. This is, for the most part, DEFINITELY not the case here.<br /><br />The sets are divine, bright and colorful, the characters are bigger than life and you can't help but love them, and Michael Kidd's choreography is absolutely stunning. (So glad to know they used the original Broadway choreographer)<br /><br />All of the actors \"bounce the ball\" (that is, have unbeatable chemistry) to perfection in this film. Frank and Marlon are absolutely believable as the proprietor of the oldest established permanent floating crap game in New York, and the most notorious gambler who bets on even the most minute things-- such as his fever going up to 104 if he doesn't take penicillin. Sweet, fresh faced Jean Simmons is perfect for the role of Sarah (although it is true, her singing pipes are not as outstanding as that of Isabel Bigley or Josie de Guzman)-- the mission doll with a heart of gold and a drive to heal all. And last but certainly not least (on my list anyway) is Miss Vivian Blaine, reprising her Broadway role as Miss Adelaide-- the Hot Box lead singer and dancer who would like to finally end her 14 year engagement to Nathan with marriage, and rid herself of the psychosomatic cold he's given her.<br /><br />First off, kudos to Stubby Kaye and B.S. Pulley as they reprise their Broadway roles as Nicely-Nicely Johnson and Benny Southstreet. There were never two more loveable gamblers than these guys.<br /><br />Brando is superb, as usual, and though he's not got the voice of Robert Alda or Peter Gallagher, you forget it-- as he has this sense of determination to bring all he can to his role as Sky Masterson. \"Luck Be A Lady\" gives me chills every time I see him perform the number. Especially enjoyable is hearing him say \"Daddy... I got cider in my ear.\"<br /><br />Simmons is charming and pleasant in a role well suited to her looks, voice and the way she carries herself. You long so dearly for her not only to win Sky (or, toward the end, believe him), but to help people overcome their gambling, drinking and other sins, and live a life with God. Her rendition of \"If I Were A Bell\" is splendid, to say the least!<br /><br />Sinatra is the man. He is so perfect for the role of Nathan Detroit-- and here he sings parts that Sam Levene from the Broadway cast never could (terrific actor, but the chap was tone deaf... go figure). I really enjoyed the addition of the song \"Adelaide\"... wish some guy would sing like that to ME. Frankie's cool, slick demeanor transcends the boundaries of this movie. But most importantly, you want him to marry Adelaide.<br /><br />And speaking of Adelaide, Vivian Blaine is just sheer perfection in this role. From the accent to her belting out \"Adelaide's Lament\", she's just terrific. And she's also my favorite part of the entire movie. She really makes you feel for Adelaide... especially when she cries right before and then again during \"Sue Me\". I still haven't decided whether I like \"Pet Me Poppa\" better than \"Bushel and a Peck\"... maybe I like them equally. Either way, she does fantastic with those as well as \"Take Back Your Mink.\" (I'm sad that they left out \"hollanderize\" from the film...) She's absolutely MARVELOUS, not to mention hilarious, and my favorite part of the entire film.<br /><br />One of the best things about this movie is their lingo. It's a mixture of high class and street slang. Never do they use \"It's\", \"I'll\" or \"That's.\" It's always \"It is\", \"I will\" and \"That is.\" Overall, Guys & Dolls is one of my favorite all time movies and musicals, and it's one that you should take time to watch every time it comes on. My only complaint? No \"Marry The Man Today.\" Now THAT'S a good song.  \\\n",
            "0                                                  0                                                                                                                                                                                                                                                                                                                                                                                                                                                                                                                                                                                                                                                                                                                                                                                                                                                                                                                                                                                                                                                                                                                                                                                                                                                                                                                                                                                                                                                                                                                                                                                                                                                                                                                                                                                                                                                                                                                                                                                                                                                                                                                                                                                                                                                                                                                                                                                                                                                                                                                                                                                                                                                                                                                                                                                                                                                                                                                                                                                                                                                                                                                                                                                                                                                                                                                                                                                                                                                                                                                                                                                                                                                                                                                                                                                                                                                                                                                                                                                                                                                                                                                                            \n",
            "1                                                  0                                                                                                                                                                                                                                                                                                                                                                                                                                                                                                                                                                                                                                                                                                                                                                                                                                                                                                                                                                                                                                                                                                                                                                                                                                                                                                                                                                                                                                                                                                                                                                                                                                                                                                                                                                                                                                                                                                                                                                                                                                                                                                                                                                                                                                                                                                                                                                                                                                                                                                                                                                                                                                                                                                                                                                                                                                                                                                                                                                                                                                                                                                                                                                                                                                                                                                                                                                                                                                                                                                                                                                                                                                                                                                                                                                                                                                                                                                                                                                                                                                                                                                                                            \n",
            "\n",
            "   review_{rant start} I didn't want to believe them at first, but I guess this is what people are talking about when they say South Korean cinema has peaked and may even be going downhill. After the surprisingly fun and moving monster movie \"Gwoemul\" (aka \"The Host\") of 2006-- which actually succeeded in making a sharp satire out of a B-movie genre-- successive Korean blockbusters have become more and more generic, even though their budgets (mainly spent on special effects) have become more and more fantastic. Do South Korean movie-makers really want to squander all the audience and investor goodwill, which their industry has built up since the 1999 break-out film \"Shiri/Swiri\", by making a whole series of big budget mediocre movies like mainland China did? {rant end}<br /><br />The only \"reason\" I can fathom for making this movie is to dupe the investors into financing the most detailed and fluid digital animation of a Korean/ East Asian-styled dragon I have seen to date, for the final scenes. Now if they had introduced that dragon at the beginning and given it more personality and purpose like in the 1996 \"Dragonheart\", the movie might have had a few more redeeming qualities other than having lots of digitally animated dragons. Remember \"Dungeons & Dragons\" in 2000? Hasn't anyone learnt that the trick is not how MUCH special effects you use, but how WELL you use it? I hope there are more (and better) Korean legends they can use, because they have just killed a lot of international interest in Korean dragon legends with the way they filmed this one.<br /><br />In short, I agree with all the negative reviews gone before and wonder how Koreans felt about having their folk anthem \"Arirang\" being played at the very end. As a creature feature, I would have given it at least 5 stars out of 10 if the special effects or action sequences had been worth it, but I've seen many video games with better camera work and scripting (just less dragons).  \\\n",
            "0                                                  0                                                                                                                                                                                                                                                                                                                                                                                                                                                                                                                                                                                                                                                                                                                                                                                                                                                                                                                                                                                                                                                                                                                                                                                                                                                                                                                                                                                                                                                                                                                                                                                                                                                                                                                                                                                                                                                                                                                                                                                                  \n",
            "1                                                  0                                                                                                                                                                                                                                                                                                                                                                                                                                                                                                                                                                                                                                                                                                                                                                                                                                                                                                                                                                                                                                                                                                                                                                                                                                                                                                                                                                                                                                                                                                                                                                                                                                                                                                                                                                                                                                                                                                                                                                                                  \n",
            "\n",
            "   review_~~I was able to see this movie yesterday morning on a early viewing pass~~<br /><br />I am a mom of 2 children, who range from 11 down to 6. So I'm sure plenty of parents can relate to having to see many many \"kids\" movies. This was refreshing for me. I haven't read this particular book, so I don't know if it stayed true to the book or not. But it sure took the grossness factor to a high level. This is the story of the \"new\" kid in town and it just so happens that there are a group of boys who have formed a club of sorts and love to pick on kids ....sound familiar? Haven't we all suffered this one time or another. He has the little brother who he cant stand and parents that he is embarrassed about. What I enjoyed most of all was seeing how each character was totally different from another they all stood out. The bully (why do they always make the bully a red head? My daughter has red hair! and she is no bully!..lol) is well a great bully, who finds himself being yelled at by his own big brother. It took twists and turns and well you fall in love with all of them and really find yourself routing for all the characters! Even the parents, great connection between father and son. All around enjoyable, sweet,funny, gross etc......Take your kids!!! You will enjoy it as much as they do!  \\\n",
            "0                                                  0                                                                                                                                                                                                                                                                                                                                                                                                                                                                                                                                                                                                                                                                                                                                                                                                                                                                                                                                                                                                                                                                                                                                                                                                                                                                                                             \n",
            "1                                                  0                                                                                                                                                                                                                                                                                                                                                                                                                                                                                                                                                                                                                                                                                                                                                                                                                                                                                                                                                                                                                                                                                                                                                                                                                                                                                                             \n",
            "\n",
            "   review_    Film auteur Stephan Woloszczuk explores the depths of love, passion, and brotherhood and the devastating results of loss in his latest film BLINDSPOT.<br /><br />BLINDSPOT'S diegetic world is exploding with suspense and takes the audience on a twisting  journey to the core of the human soul.  As a director, he manages to draw the human spirit from the performances of his actors.   With superb editing, especially in the flashback scenes and beautiful cinematography, BLINDSPOT is a thought provoking suspense from beginning to end.  A thriller which leaves much to the minds' eye.<br /><br />What an  astounding accomplishment for Stephan Woloszczuk.<br /><br />  Cheers Stephan! Angela Sander  \\\n",
            "0                                                  0                                                                                                                                                                                                                                                                                                                                                                                                                                                                                                                                                                                                                                                                                     \n",
            "1                                                  0                                                                                                                                                                                                                                                                                                                                                                                                                                                                                                                                                                                                                                                                                     \n",
            "\n",
            "   review_ý thýnk uzak ýs the one of the best films of all times and everybody must realize this movie.I m a Turkish boy and a big cinema fun. and in this days our cinema industry is highing up.And UZAK is the best Turkish film of last ten years.and maybe one of the best films of all times.director nuri bilge ceylan is quite amazing.telling story,characters,atmosphere is wonderful.he is a minimalist director and tells about routine event family,dreams,expects,life.tells about you ,tells about me,tells about us.I promise you will find a piece of your body in this movie.cinema life welcomes a new director.he is waiting to realize.I promise yo you will love this movie please watch it  \n",
            "0                                                  0                                                                                                                                                                                                                                                                                                                                                                                                                                                                                                                                                                                                                                                               \n",
            "1                                                  0                                                                                                                                                                                                                                                                                                                                                                                                                                                                                                                                                                                                                                                               \n",
            "\n",
            "[2 rows x 49583 columns]\n"
          ]
        }
      ]
    }
  ]
}