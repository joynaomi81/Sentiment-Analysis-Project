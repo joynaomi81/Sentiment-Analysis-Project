{
  "nbformat": 4,
  "nbformat_minor": 0,
  "metadata": {
    "colab": {
      "provenance": [],
      "mount_file_id": "1JK2mnb4i8KTDQTSmmj2NxPoFrQYc3jZw",
      "authorship_tag": "ABX9TyP5BMlbDr3ZxS0WEgNxsgxz",
      "include_colab_link": true
    },
    "kernelspec": {
      "name": "python3",
      "display_name": "Python 3"
    },
    "language_info": {
      "name": "python"
    }
  },
  "cells": [
    {
      "cell_type": "markdown",
      "metadata": {
        "id": "view-in-github",
        "colab_type": "text"
      },
      "source": [
        "<a href=\"https://colab.research.google.com/github/joynaomi81/Sentiment-Analysis-Project/blob/main/Sentiment_ipynb.ipynb\" target=\"_parent\"><img src=\"https://colab.research.google.com/assets/colab-badge.svg\" alt=\"Open In Colab\"/></a>"
      ]
    },
    {
      "cell_type": "code",
      "source": [
        "import nltk\n",
        "\n",
        "# Download the vader_lexicon\n",
        "nltk.download('vader_lexicon')\n",
        "\n",
        "from nltk.sentiment.vader import SentimentIntensityAnalyzer\n",
        "\n",
        "# Now you can create the SentimentIntensityAnalyzer object\n",
        "sent_analysis = SentimentIntensityAnalyzer()\n"
      ],
      "metadata": {
        "colab": {
          "base_uri": "https://localhost:8080/"
        },
        "id": "Xz1g04--pse0",
        "outputId": "9bc74dbb-a34a-45ee-94be-6b3faa9aa8a5"
      },
      "execution_count": 8,
      "outputs": [
        {
          "output_type": "stream",
          "name": "stderr",
          "text": [
            "[nltk_data] Downloading package vader_lexicon to /root/nltk_data...\n",
            "[nltk_data]   Package vader_lexicon is already up-to-date!\n"
          ]
        }
      ]
    },
    {
      "cell_type": "code",
      "source": [
        "print('sentiment analysis values:')\n",
        "print(sent_analysis.polarity_scores('You should be dead'))"
      ],
      "metadata": {
        "colab": {
          "base_uri": "https://localhost:8080/"
        },
        "id": "3vGSaa7JqOMa",
        "outputId": "e8b5a51b-fdfa-4226-dda1-7d49afaf233f"
      },
      "execution_count": 5,
      "outputs": [
        {
          "output_type": "stream",
          "name": "stdout",
          "text": [
            "sentiment analysis values:\n",
            "{'neg': 0.589, 'neu': 0.411, 'pos': 0.0, 'compound': -0.6486}\n"
          ]
        }
      ]
    },
    {
      "cell_type": "code",
      "source": [
        "import joblib"
      ],
      "metadata": {
        "id": "OGJsbM2RqVrT"
      },
      "execution_count": 6,
      "outputs": []
    },
    {
      "cell_type": "code",
      "source": [
        "joblib.dump(sent_analysis, '/content/drive/MyDrive/sentiment analysis.pkl')"
      ],
      "metadata": {
        "colab": {
          "base_uri": "https://localhost:8080/"
        },
        "id": "-Kfl2WdMqbtM",
        "outputId": "c9d6a809-21b1-4c14-8dff-9813dd9c2233"
      },
      "execution_count": 7,
      "outputs": [
        {
          "output_type": "execute_result",
          "data": {
            "text/plain": [
              "['/content/drive/MyDrive/sentiment analysis.pkl']"
            ]
          },
          "metadata": {},
          "execution_count": 7
        }
      ]
    }
  ]
}